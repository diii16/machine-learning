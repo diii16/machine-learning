{
  "nbformat": 4,
  "nbformat_minor": 0,
  "metadata": {
    "colab": {
      "name": "HW7_collaborative_filtering.ipynb",
      "version": "0.3.2",
      "provenance": [],
      "include_colab_link": true
    },
    "kernelspec": {
      "name": "python3",
      "display_name": "Python 3"
    },
    "accelerator": "TPU"
  },
  "cells": [
    {
      "cell_type": "markdown",
      "metadata": {
        "id": "view-in-github",
        "colab_type": "text"
      },
      "source": [
        "<a href=\"https://colab.research.google.com/github/linkwine/machine-learning/blob/master/collaborative_filtering.ipynb\" target=\"_parent\"><img src=\"https://colab.research.google.com/assets/colab-badge.svg\" alt=\"Open In Colab\"/></a>"
      ]
    },
    {
      "metadata": {
        "id": "-VGkDT_YtPbg",
        "colab_type": "text"
      },
      "cell_type": "markdown",
      "source": [
        "# Collaborative Filtering with Surprise\n",
        "###The goal of this project is to build up a movie recommender system with Python Scikit Suprise package (http://surpriselib.com/).\n",
        "\n",
        "\n",
        "![Netflix](https://raw.githubusercontent.com/linkwine/machine-learning/master/netflix.jpg)\n",
        "\n",
        "Datasource: Kaggle 'Netflix Prize Data'.\n",
        "https://www.kaggle.com/netflix-inc/netflix-prize-data\n",
        "\n"
      ]
    },
    {
      "metadata": {
        "id": "Lt4GLIVNwkCm",
        "colab_type": "text"
      },
      "cell_type": "markdown",
      "source": [
        "# Ingest"
      ]
    },
    {
      "metadata": {
        "id": "S0wrCLGz2PqG",
        "colab_type": "text"
      },
      "cell_type": "markdown",
      "source": [
        "### Load library"
      ]
    },
    {
      "metadata": {
        "id": "IHnieFHU2SSk",
        "colab_type": "code",
        "colab": {}
      },
      "cell_type": "code",
      "source": [
        "import pandas as pd\n",
        "import numpy as np\n",
        "\n",
        "import seaborn as sns\n",
        "%matplotlib inline\n",
        "import matplotlib.pyplot as plt\n",
        "\n",
        "\n",
        "import math\n",
        "import re\n",
        "\n",
        "import time"
      ],
      "execution_count": 0,
      "outputs": []
    },
    {
      "metadata": {
        "id": "me_P9Pgl2bn9",
        "colab_type": "code",
        "colab": {}
      },
      "cell_type": "code",
      "source": [
        "#install surprise package\n",
        "!pip install -q scikit-surprise"
      ],
      "execution_count": 0,
      "outputs": []
    },
    {
      "metadata": {
        "id": "vZAfz8ea2oxk",
        "colab_type": "code",
        "colab": {}
      },
      "cell_type": "code",
      "source": [
        "from surprise.model_selection import cross_validate\n",
        "from surprise import Reader, Dataset, SVD, evaluate"
      ],
      "execution_count": 0,
      "outputs": []
    },
    {
      "metadata": {
        "id": "4sw4Vjm2xHZm",
        "colab_type": "text"
      },
      "cell_type": "markdown",
      "source": [
        "### Import data from Google Drive"
      ]
    },
    {
      "metadata": {
        "id": "R8wO5ScyxGhQ",
        "colab_type": "code",
        "outputId": "9e506e9c-12a4-489e-f0cb-5b2c185b3963",
        "colab": {
          "base_uri": "https://localhost:8080/",
          "height": 126
        }
      },
      "cell_type": "code",
      "source": [
        "# mount drive\n",
        "from google.colab import drive\n",
        "drive.mount('/content/gdrive')\n"
      ],
      "execution_count": 5,
      "outputs": [
        {
          "output_type": "stream",
          "text": [
            "Go to this URL in a browser: https://accounts.google.com/o/oauth2/auth?client_id=947318989803-6bn6qk8qdgf4n4g3pfee6491hc0brc4i.apps.googleusercontent.com&redirect_uri=urn%3Aietf%3Awg%3Aoauth%3A2.0%3Aoob&scope=email%20https%3A%2F%2Fwww.googleapis.com%2Fauth%2Fdocs.test%20https%3A%2F%2Fwww.googleapis.com%2Fauth%2Fdrive%20https%3A%2F%2Fwww.googleapis.com%2Fauth%2Fdrive.photos.readonly%20https%3A%2F%2Fwww.googleapis.com%2Fauth%2Fpeopleapi.readonly&response_type=code\n",
            "\n",
            "Enter your authorization code:\n",
            "··········\n",
            "Mounted at /content/gdrive\n"
          ],
          "name": "stdout"
        }
      ]
    },
    {
      "metadata": {
        "id": "4TqxH4AkyUcA",
        "colab_type": "code",
        "outputId": "b4616feb-5359-48a8-adad-61bacec94676",
        "colab": {
          "base_uri": "https://localhost:8080/",
          "height": 35
        }
      },
      "cell_type": "code",
      "source": [
        "!pip install -U -q PyDrive\n",
        "\n",
        "from pydrive.auth import GoogleAuth\n",
        "from pydrive.drive import GoogleDrive\n",
        "from google.colab import auth\n",
        "from oauth2client.client import GoogleCredentials\n",
        "from googleapiclient.discovery import build\n",
        "\n",
        "# 1. Authenticate and create the PyDrive client.\n",
        "auth.authenticate_user()\n",
        "gauth = GoogleAuth()\n",
        "gauth.credentials = GoogleCredentials.get_application_default()\n",
        "drive = GoogleDrive(gauth)\n",
        "drive_service = build('drive', 'v3')\n",
        "\n",
        "# 2. import csv file from Google Drive\n",
        "# A file ID looks like: 1uBtlaggVyWshwcyP6kEI-y_W3P8D26sz\n",
        "file_id = '1HhUlucV3tDN9WeTdFKockhamCVF4DkJv'\n",
        "\n",
        "import io\n",
        "from googleapiclient.http import MediaIoBaseDownload\n",
        "\n",
        "request = drive_service.files().get_media(fileId=file_id)\n",
        "downloaded = io.BytesIO()\n",
        "downloader = MediaIoBaseDownload(downloaded, request)\n",
        "done = False\n",
        "while done is False:\n",
        "  # _ is a placeholder for a progress object that we ignore.\n",
        "  # (Our file is small, so we skip reporting progress.)\n",
        "  _, done = downloader.next_chunk()\n",
        "\n",
        "downloaded.seek(0)"
      ],
      "execution_count": 4,
      "outputs": [
        {
          "output_type": "execute_result",
          "data": {
            "text/plain": [
              "0"
            ]
          },
          "metadata": {
            "tags": []
          },
          "execution_count": 4
        }
      ]
    },
    {
      "metadata": {
        "id": "0cWwJiYK0vvO",
        "colab_type": "code",
        "colab": {
          "base_uri": "https://localhost:8080/",
          "height": 35
        },
        "outputId": "be8a53b1-9206-4fa1-c2cd-53906c5da8b4"
      },
      "cell_type": "code",
      "source": [
        "# 3. import txt file from Google Drive\n",
        "file_id_2 = '1gZuxDt1k84C994Rx6mvBrhtbLGnEqJeM'   # movie rating\n",
        "\n",
        "request_2 = drive_service.files().get_media(fileId=file_id_2)\n",
        "downloaded_2 = io.BytesIO()\n",
        "downloader_2 = MediaIoBaseDownload(downloaded_2, request_2)\n",
        "done = False\n",
        "while done is False:\n",
        "  # _ is a placeholder for a progress object that we ignore.\n",
        "  # (Our file is small, so we skip reporting progress.)\n",
        "  _, done = downloader_2.next_chunk()\n",
        "\n",
        "downloaded_2.seek(0)"
      ],
      "execution_count": 5,
      "outputs": [
        {
          "output_type": "execute_result",
          "data": {
            "text/plain": [
              "0"
            ]
          },
          "metadata": {
            "tags": []
          },
          "execution_count": 5
        }
      ]
    },
    {
      "metadata": {
        "id": "0_ueig592G4W",
        "colab_type": "text"
      },
      "cell_type": "markdown",
      "source": [
        "### View data"
      ]
    },
    {
      "metadata": {
        "id": "Je7HMkrw2FA9",
        "colab_type": "code",
        "colab": {}
      },
      "cell_type": "code",
      "source": [
        "# endcode ISO-8859-1 format\n",
        "df_movie = pd.read_csv(downloaded, header=None,  encoding = \"ISO-8859-1\", names = ['Movie_Id', 'Year', 'Name'])"
      ],
      "execution_count": 0,
      "outputs": []
    },
    {
      "metadata": {
        "id": "tfpycR4X5Fey",
        "colab_type": "code",
        "colab": {}
      },
      "cell_type": "code",
      "source": [
        "df_movie.set_index('Movie_Id', inplace=True)"
      ],
      "execution_count": 0,
      "outputs": []
    },
    {
      "metadata": {
        "id": "QMfvVufE6B3-",
        "colab_type": "code",
        "outputId": "713da1e6-287e-4ae3-97ef-98c31a003666",
        "colab": {
          "base_uri": "https://localhost:8080/",
          "height": 230
        }
      },
      "cell_type": "code",
      "source": [
        "df_movie.head()"
      ],
      "execution_count": 8,
      "outputs": [
        {
          "output_type": "execute_result",
          "data": {
            "text/html": [
              "<div>\n",
              "<style scoped>\n",
              "    .dataframe tbody tr th:only-of-type {\n",
              "        vertical-align: middle;\n",
              "    }\n",
              "\n",
              "    .dataframe tbody tr th {\n",
              "        vertical-align: top;\n",
              "    }\n",
              "\n",
              "    .dataframe thead th {\n",
              "        text-align: right;\n",
              "    }\n",
              "</style>\n",
              "<table border=\"1\" class=\"dataframe\">\n",
              "  <thead>\n",
              "    <tr style=\"text-align: right;\">\n",
              "      <th></th>\n",
              "      <th>Year</th>\n",
              "      <th>Name</th>\n",
              "    </tr>\n",
              "    <tr>\n",
              "      <th>Movie_Id</th>\n",
              "      <th></th>\n",
              "      <th></th>\n",
              "    </tr>\n",
              "  </thead>\n",
              "  <tbody>\n",
              "    <tr>\n",
              "      <th>1</th>\n",
              "      <td>2003.0</td>\n",
              "      <td>Dinosaur Planet</td>\n",
              "    </tr>\n",
              "    <tr>\n",
              "      <th>2</th>\n",
              "      <td>2004.0</td>\n",
              "      <td>Isle of Man TT 2004 Review</td>\n",
              "    </tr>\n",
              "    <tr>\n",
              "      <th>3</th>\n",
              "      <td>1997.0</td>\n",
              "      <td>Character</td>\n",
              "    </tr>\n",
              "    <tr>\n",
              "      <th>4</th>\n",
              "      <td>1994.0</td>\n",
              "      <td>Paula Abdul's Get Up &amp; Dance</td>\n",
              "    </tr>\n",
              "    <tr>\n",
              "      <th>5</th>\n",
              "      <td>2004.0</td>\n",
              "      <td>The Rise and Fall of ECW</td>\n",
              "    </tr>\n",
              "  </tbody>\n",
              "</table>\n",
              "</div>"
            ],
            "text/plain": [
              "            Year                          Name\n",
              "Movie_Id                                      \n",
              "1         2003.0               Dinosaur Planet\n",
              "2         2004.0    Isle of Man TT 2004 Review\n",
              "3         1997.0                     Character\n",
              "4         1994.0  Paula Abdul's Get Up & Dance\n",
              "5         2004.0      The Rise and Fall of ECW"
            ]
          },
          "metadata": {
            "tags": []
          },
          "execution_count": 8
        }
      ]
    },
    {
      "metadata": {
        "id": "uI_5ObTP_0RX",
        "colab_type": "code",
        "outputId": "2ad34b3b-0d80-443b-9565-450f7809b98a",
        "colab": {
          "base_uri": "https://localhost:8080/",
          "height": 70
        }
      },
      "cell_type": "code",
      "source": [
        "df_movie.count()"
      ],
      "execution_count": 9,
      "outputs": [
        {
          "output_type": "execute_result",
          "data": {
            "text/plain": [
              "Year    17763\n",
              "Name    17770\n",
              "dtype: int64"
            ]
          },
          "metadata": {
            "tags": []
          },
          "execution_count": 9
        }
      ]
    },
    {
      "metadata": {
        "id": "3_CryvDP_523",
        "colab_type": "code",
        "outputId": "dabc2955-ff31-4326-bb30-ce1df7f2bd74",
        "colab": {
          "base_uri": "https://localhost:8080/",
          "height": 70
        }
      },
      "cell_type": "code",
      "source": [
        "df_movie.isna().sum()"
      ],
      "execution_count": 10,
      "outputs": [
        {
          "output_type": "execute_result",
          "data": {
            "text/plain": [
              "Year    7\n",
              "Name    0\n",
              "dtype: int64"
            ]
          },
          "metadata": {
            "tags": []
          },
          "execution_count": 10
        }
      ]
    },
    {
      "metadata": {
        "id": "-IlUOFXu6eht",
        "colab_type": "code",
        "colab": {}
      },
      "cell_type": "code",
      "source": [
        "df_rating = pd.read_csv(downloaded_2, header = None, names = ['Cust_Id', 'Rating'], usecols = [0,1])\n"
      ],
      "execution_count": 0,
      "outputs": []
    },
    {
      "metadata": {
        "id": "cncr48jC-aEO",
        "colab_type": "code",
        "colab": {
          "base_uri": "https://localhost:8080/",
          "height": 200
        },
        "outputId": "b96d2325-c980-47a6-8a04-d4e441959ba5"
      },
      "cell_type": "code",
      "source": [
        "df_rating.head()"
      ],
      "execution_count": 10,
      "outputs": [
        {
          "output_type": "execute_result",
          "data": {
            "text/html": [
              "<div>\n",
              "<style scoped>\n",
              "    .dataframe tbody tr th:only-of-type {\n",
              "        vertical-align: middle;\n",
              "    }\n",
              "\n",
              "    .dataframe tbody tr th {\n",
              "        vertical-align: top;\n",
              "    }\n",
              "\n",
              "    .dataframe thead th {\n",
              "        text-align: right;\n",
              "    }\n",
              "</style>\n",
              "<table border=\"1\" class=\"dataframe\">\n",
              "  <thead>\n",
              "    <tr style=\"text-align: right;\">\n",
              "      <th></th>\n",
              "      <th>Cust_Id</th>\n",
              "      <th>Rating</th>\n",
              "    </tr>\n",
              "  </thead>\n",
              "  <tbody>\n",
              "    <tr>\n",
              "      <th>0</th>\n",
              "      <td>1:</td>\n",
              "      <td>NaN</td>\n",
              "    </tr>\n",
              "    <tr>\n",
              "      <th>1</th>\n",
              "      <td>1488844</td>\n",
              "      <td>3.0</td>\n",
              "    </tr>\n",
              "    <tr>\n",
              "      <th>2</th>\n",
              "      <td>822109</td>\n",
              "      <td>5.0</td>\n",
              "    </tr>\n",
              "    <tr>\n",
              "      <th>3</th>\n",
              "      <td>885013</td>\n",
              "      <td>4.0</td>\n",
              "    </tr>\n",
              "    <tr>\n",
              "      <th>4</th>\n",
              "      <td>30878</td>\n",
              "      <td>4.0</td>\n",
              "    </tr>\n",
              "  </tbody>\n",
              "</table>\n",
              "</div>"
            ],
            "text/plain": [
              "   Cust_Id  Rating\n",
              "0       1:     NaN\n",
              "1  1488844     3.0\n",
              "2   822109     5.0\n",
              "3   885013     4.0\n",
              "4    30878     4.0"
            ]
          },
          "metadata": {
            "tags": []
          },
          "execution_count": 10
        }
      ]
    },
    {
      "metadata": {
        "id": "SfEV1YDR-7sd",
        "colab_type": "code",
        "outputId": "2dc20ccd-fd8c-4a5c-b722-03e5a3f9c631",
        "colab": {
          "base_uri": "https://localhost:8080/",
          "height": 70
        }
      },
      "cell_type": "code",
      "source": [
        "df_rating.isna().sum()"
      ],
      "execution_count": 15,
      "outputs": [
        {
          "output_type": "execute_result",
          "data": {
            "text/plain": [
              "Cust_Id       0\n",
              "Rating     4499\n",
              "dtype: int64"
            ]
          },
          "metadata": {
            "tags": []
          },
          "execution_count": 15
        }
      ]
    },
    {
      "metadata": {
        "id": "5IfcoWZs_EiM",
        "colab_type": "code",
        "outputId": "fdbdef89-c0e2-4bab-ad82-3f25f5bc8041",
        "colab": {
          "base_uri": "https://localhost:8080/",
          "height": 70
        }
      },
      "cell_type": "code",
      "source": [
        "df_rating.count()"
      ],
      "execution_count": 16,
      "outputs": [
        {
          "output_type": "execute_result",
          "data": {
            "text/plain": [
              "Cust_Id    24058263\n",
              "Rating     24053764\n",
              "dtype: int64"
            ]
          },
          "metadata": {
            "tags": []
          },
          "execution_count": 16
        }
      ]
    },
    {
      "metadata": {
        "id": "7Mx3_e1fwl9P",
        "colab_type": "text"
      },
      "cell_type": "markdown",
      "source": [
        "# Data Manipulation"
      ]
    },
    {
      "metadata": {
        "id": "_HNsmIyt_-Q6",
        "colab_type": "text"
      },
      "cell_type": "markdown",
      "source": [
        "### EDA"
      ]
    },
    {
      "metadata": {
        "id": "neWHD9ec_9Zo",
        "colab_type": "code",
        "outputId": "33605f74-c400-4387-bede-d4f138f25a26",
        "colab": {
          "base_uri": "https://localhost:8080/",
          "height": 230
        }
      },
      "cell_type": "code",
      "source": [
        "df_rating.groupby('Rating').count()"
      ],
      "execution_count": 17,
      "outputs": [
        {
          "output_type": "execute_result",
          "data": {
            "text/html": [
              "<div>\n",
              "<style scoped>\n",
              "    .dataframe tbody tr th:only-of-type {\n",
              "        vertical-align: middle;\n",
              "    }\n",
              "\n",
              "    .dataframe tbody tr th {\n",
              "        vertical-align: top;\n",
              "    }\n",
              "\n",
              "    .dataframe thead th {\n",
              "        text-align: right;\n",
              "    }\n",
              "</style>\n",
              "<table border=\"1\" class=\"dataframe\">\n",
              "  <thead>\n",
              "    <tr style=\"text-align: right;\">\n",
              "      <th></th>\n",
              "      <th>Cust_Id</th>\n",
              "    </tr>\n",
              "    <tr>\n",
              "      <th>Rating</th>\n",
              "      <th></th>\n",
              "    </tr>\n",
              "  </thead>\n",
              "  <tbody>\n",
              "    <tr>\n",
              "      <th>1.0</th>\n",
              "      <td>1118186</td>\n",
              "    </tr>\n",
              "    <tr>\n",
              "      <th>2.0</th>\n",
              "      <td>2439073</td>\n",
              "    </tr>\n",
              "    <tr>\n",
              "      <th>3.0</th>\n",
              "      <td>6904181</td>\n",
              "    </tr>\n",
              "    <tr>\n",
              "      <th>4.0</th>\n",
              "      <td>8085741</td>\n",
              "    </tr>\n",
              "    <tr>\n",
              "      <th>5.0</th>\n",
              "      <td>5506583</td>\n",
              "    </tr>\n",
              "  </tbody>\n",
              "</table>\n",
              "</div>"
            ],
            "text/plain": [
              "        Cust_Id\n",
              "Rating         \n",
              "1.0     1118186\n",
              "2.0     2439073\n",
              "3.0     6904181\n",
              "4.0     8085741\n",
              "5.0     5506583"
            ]
          },
          "metadata": {
            "tags": []
          },
          "execution_count": 17
        }
      ]
    },
    {
      "metadata": {
        "id": "njERV6NjBUjk",
        "colab_type": "code",
        "outputId": "bbae384b-1dc1-4483-89c3-03334ea2e65f",
        "colab": {
          "base_uri": "https://localhost:8080/",
          "height": 315
        }
      },
      "cell_type": "code",
      "source": [
        "ax = sns.countplot(data=df_rating, x='Rating', palette='Set3')\n",
        "\n",
        "total = float(len(df_rating)) \n",
        "\n",
        "# annotate percentage in the countplot\n",
        "for p in ax.patches:\n",
        "    height = p.get_height()\n",
        "    ax.text(p.get_x()+p.get_width()/2.,\n",
        "            height + 3,\n",
        "            '{:1.2f}'.format(height/total),\n",
        "            ha=\"center\") "
      ],
      "execution_count": 18,
      "outputs": [
        {
          "output_type": "stream",
          "text": [
            "/usr/local/lib/python3.6/dist-packages/seaborn/categorical.py:1428: FutureWarning: remove_na is deprecated and is a private function. Do not use.\n",
            "  stat_data = remove_na(group_data)\n"
          ],
          "name": "stderr"
        },
        {
          "output_type": "display_data",
          "data": {
            "image/png": "[encoded data removed]",
            "text/plain": [
              "<Figure size 432x288 with 1 Axes>"
            ]
          },
          "metadata": {
            "tags": []
          }
        }
      ]
    },
    {
      "metadata": {
        "id": "ORkT_anWDo3q",
        "colab_type": "text"
      },
      "cell_type": "markdown",
      "source": [
        "### Reshape Data"
      ]
    },
    {
      "metadata": {
        "id": "ibVKHoF4nUQi",
        "colab_type": "code",
        "outputId": "6dad94a9-531e-428b-f946-3adab38e2ad5",
        "colab": {
          "base_uri": "https://localhost:8080/",
          "height": 200
        }
      },
      "cell_type": "code",
      "source": [
        "df_nan= df_rating[(pd.isnull(df_rating.Rating))].reset_index()\n",
        "df_nan.head()"
      ],
      "execution_count": 11,
      "outputs": [
        {
          "output_type": "execute_result",
          "data": {
            "text/html": [
              "<div>\n",
              "<style scoped>\n",
              "    .dataframe tbody tr th:only-of-type {\n",
              "        vertical-align: middle;\n",
              "    }\n",
              "\n",
              "    .dataframe tbody tr th {\n",
              "        vertical-align: top;\n",
              "    }\n",
              "\n",
              "    .dataframe thead th {\n",
              "        text-align: right;\n",
              "    }\n",
              "</style>\n",
              "<table border=\"1\" class=\"dataframe\">\n",
              "  <thead>\n",
              "    <tr style=\"text-align: right;\">\n",
              "      <th></th>\n",
              "      <th>index</th>\n",
              "      <th>Cust_Id</th>\n",
              "      <th>Rating</th>\n",
              "    </tr>\n",
              "  </thead>\n",
              "  <tbody>\n",
              "    <tr>\n",
              "      <th>0</th>\n",
              "      <td>0</td>\n",
              "      <td>1:</td>\n",
              "      <td>NaN</td>\n",
              "    </tr>\n",
              "    <tr>\n",
              "      <th>1</th>\n",
              "      <td>548</td>\n",
              "      <td>2:</td>\n",
              "      <td>NaN</td>\n",
              "    </tr>\n",
              "    <tr>\n",
              "      <th>2</th>\n",
              "      <td>694</td>\n",
              "      <td>3:</td>\n",
              "      <td>NaN</td>\n",
              "    </tr>\n",
              "    <tr>\n",
              "      <th>3</th>\n",
              "      <td>2707</td>\n",
              "      <td>4:</td>\n",
              "      <td>NaN</td>\n",
              "    </tr>\n",
              "    <tr>\n",
              "      <th>4</th>\n",
              "      <td>2850</td>\n",
              "      <td>5:</td>\n",
              "      <td>NaN</td>\n",
              "    </tr>\n",
              "  </tbody>\n",
              "</table>\n",
              "</div>"
            ],
            "text/plain": [
              "   index Cust_Id  Rating\n",
              "0      0      1:     NaN\n",
              "1    548      2:     NaN\n",
              "2    694      3:     NaN\n",
              "3   2707      4:     NaN\n",
              "4   2850      5:     NaN"
            ]
          },
          "metadata": {
            "tags": []
          },
          "execution_count": 11
        }
      ]
    },
    {
      "metadata": {
        "id": "020ezOQUoBA1",
        "colab_type": "code",
        "colab": {}
      },
      "cell_type": "code",
      "source": [
        "movie_np = []\n",
        "movie_id = 1\n",
        "\n",
        "for i,j in zip(df_nan['index'][1:],df_nan['index'][:-1]):\n",
        "    # numpy approach\n",
        "    temp = np.full((1,i-j-1), movie_id)\n",
        "    movie_np = np.append(movie_np, temp)\n",
        "    movie_id += 1"
      ],
      "execution_count": 0,
      "outputs": []
    },
    {
      "metadata": {
        "id": "-bgjyVQIAZx3",
        "colab_type": "code",
        "outputId": "648e1660-5e02-477e-9ffb-b71c117d501e",
        "colab": {
          "base_uri": "https://localhost:8080/",
          "height": 52
        }
      },
      "cell_type": "code",
      "source": [
        "# Account for last record and corresponding length\n",
        "# numpy approach\n",
        "last_record = np.full((1,len(df_rating) - df_nan.iloc[-1, 0] - 1),movie_id)\n",
        "movie_np = np.append(movie_np, last_record)\n",
        "\n",
        "print('Movie numpy: {}'.format(movie_np))\n",
        "print('Length: {}'.format(len(movie_np)))"
      ],
      "execution_count": 13,
      "outputs": [
        {
          "output_type": "stream",
          "text": [
            "Movie numpy: [1.000e+00 1.000e+00 1.000e+00 ... 4.499e+03 4.499e+03 4.499e+03]\n",
            "Length: 24053764\n"
          ],
          "name": "stdout"
        }
      ]
    },
    {
      "metadata": {
        "id": "dSTs5vvT37Cv",
        "colab_type": "code",
        "outputId": "66f23daf-00a4-41aa-c964-11ce2d60672c",
        "colab": {
          "base_uri": "https://localhost:8080/",
          "height": 200
        }
      },
      "cell_type": "code",
      "source": [
        "# remove those Movie ID rows\n",
        "df_rating= df_rating[pd.notnull(df_rating['Rating'])]\n",
        "\n",
        "df_rating['Movie_Id'] = movie_np.astype(int)\n",
        "df_rating['Cust_Id'] = df_rating['Cust_Id'].astype(int)\n",
        "df_rating.head()\n"
      ],
      "execution_count": 14,
      "outputs": [
        {
          "output_type": "execute_result",
          "data": {
            "text/html": [
              "<div>\n",
              "<style scoped>\n",
              "    .dataframe tbody tr th:only-of-type {\n",
              "        vertical-align: middle;\n",
              "    }\n",
              "\n",
              "    .dataframe tbody tr th {\n",
              "        vertical-align: top;\n",
              "    }\n",
              "\n",
              "    .dataframe thead th {\n",
              "        text-align: right;\n",
              "    }\n",
              "</style>\n",
              "<table border=\"1\" class=\"dataframe\">\n",
              "  <thead>\n",
              "    <tr style=\"text-align: right;\">\n",
              "      <th></th>\n",
              "      <th>Cust_Id</th>\n",
              "      <th>Rating</th>\n",
              "      <th>Movie_Id</th>\n",
              "    </tr>\n",
              "  </thead>\n",
              "  <tbody>\n",
              "    <tr>\n",
              "      <th>1</th>\n",
              "      <td>1488844</td>\n",
              "      <td>3.0</td>\n",
              "      <td>1</td>\n",
              "    </tr>\n",
              "    <tr>\n",
              "      <th>2</th>\n",
              "      <td>822109</td>\n",
              "      <td>5.0</td>\n",
              "      <td>1</td>\n",
              "    </tr>\n",
              "    <tr>\n",
              "      <th>3</th>\n",
              "      <td>885013</td>\n",
              "      <td>4.0</td>\n",
              "      <td>1</td>\n",
              "    </tr>\n",
              "    <tr>\n",
              "      <th>4</th>\n",
              "      <td>30878</td>\n",
              "      <td>4.0</td>\n",
              "      <td>1</td>\n",
              "    </tr>\n",
              "    <tr>\n",
              "      <th>5</th>\n",
              "      <td>823519</td>\n",
              "      <td>3.0</td>\n",
              "      <td>1</td>\n",
              "    </tr>\n",
              "  </tbody>\n",
              "</table>\n",
              "</div>"
            ],
            "text/plain": [
              "   Cust_Id  Rating  Movie_Id\n",
              "1  1488844     3.0         1\n",
              "2   822109     5.0         1\n",
              "3   885013     4.0         1\n",
              "4    30878     4.0         1\n",
              "5   823519     3.0         1"
            ]
          },
          "metadata": {
            "tags": []
          },
          "execution_count": 14
        }
      ]
    },
    {
      "metadata": {
        "id": "zplLoNcOi431",
        "colab_type": "code",
        "colab": {
          "base_uri": "https://localhost:8080/",
          "height": 35
        },
        "outputId": "703bedce-e60c-4eb9-9332-1558bacec591"
      },
      "cell_type": "code",
      "source": [
        "df_rating.shape"
      ],
      "execution_count": 15,
      "outputs": [
        {
          "output_type": "execute_result",
          "data": {
            "text/plain": [
              "(24053764, 3)"
            ]
          },
          "metadata": {
            "tags": []
          },
          "execution_count": 15
        }
      ]
    },
    {
      "metadata": {
        "id": "cAsOkjEmwp1n",
        "colab_type": "text"
      },
      "cell_type": "markdown",
      "source": [
        "# Modeling"
      ]
    },
    {
      "metadata": {
        "id": "JX9ehSczZc8x",
        "colab_type": "text"
      },
      "cell_type": "markdown",
      "source": [
        "### SVD"
      ]
    },
    {
      "metadata": {
        "id": "26NjypU9tZgJ",
        "colab_type": "text"
      },
      "cell_type": "markdown",
      "source": [
        "#### train"
      ]
    },
    {
      "metadata": {
        "id": "kiI7O7a8q5ni",
        "colab_type": "code",
        "colab": {
          "base_uri": "https://localhost:8080/",
          "height": 481
        },
        "outputId": "b6dc40c8-68ab-47df-88ae-6f44c98c4577"
      },
      "cell_type": "code",
      "source": [
        "reader = Reader()\n",
        "\n",
        "# get just top 100K rows for faster run time\n",
        "data = Dataset.load_from_df(df_rating[['Cust_Id', 'Movie_Id', 'Rating']][:100000], reader)\n",
        "data.split(n_folds=3)\n",
        "\n",
        "svd = SVD()\n",
        "# start timing\n",
        "start = time.clock()\n",
        "\n",
        "evaluate(svd, data, measures=['RMSE', 'MAE'])\n",
        "\n",
        "# end timing\n",
        "end = time.clock()\n",
        "\n",
        "# print runtime\n",
        "print(\"runtime：%s\"%(end-start))"
      ],
      "execution_count": 61,
      "outputs": [
        {
          "output_type": "stream",
          "text": [
            "/usr/local/lib/python3.6/dist-packages/surprise/evaluate.py:66: UserWarning: The evaluate() method is deprecated. Please use model_selection.cross_validate() instead.\n",
            "  'model_selection.cross_validate() instead.', UserWarning)\n",
            "/usr/local/lib/python3.6/dist-packages/surprise/dataset.py:193: UserWarning: Using data.split() or using load_from_folds() without using a CV iterator is now deprecated. \n",
            "  UserWarning)\n"
          ],
          "name": "stderr"
        },
        {
          "output_type": "stream",
          "text": [
            "Evaluating RMSE, MAE of algorithm SVD.\n",
            "\n",
            "------------\n",
            "Fold 1\n",
            "RMSE: 1.0533\n",
            "MAE:  0.8452\n",
            "------------\n",
            "Fold 2\n",
            "RMSE: 1.0515\n",
            "MAE:  0.8419\n",
            "------------\n",
            "Fold 3\n",
            "RMSE: 1.0492\n",
            "MAE:  0.8315\n",
            "------------\n",
            "------------\n",
            "Mean RMSE: 1.0514\n",
            "Mean MAE : 0.8396\n",
            "------------\n",
            "------------\n",
            "runtime：18.220109000000036\n"
          ],
          "name": "stdout"
        }
      ]
    },
    {
      "metadata": {
        "id": "P5kgZvAmq6Dx",
        "colab_type": "code",
        "colab": {}
      },
      "cell_type": "code",
      "source": [
        "df_265= df_rating[(df_rating['Cust_Id'] == 265)]\n",
        "df_265 = df_265.set_index('Movie_Id')\n",
        "df_265 = df_265.join(df_movie)"
      ],
      "execution_count": 0,
      "outputs": []
    },
    {
      "metadata": {
        "id": "Tn1ibAVDq6Pk",
        "colab_type": "code",
        "colab": {
          "base_uri": "https://localhost:8080/",
          "height": 230
        },
        "outputId": "88994ec3-40f6-42f7-9218-9aef2ac3967e"
      },
      "cell_type": "code",
      "source": [
        "df_265.head()"
      ],
      "execution_count": 27,
      "outputs": [
        {
          "output_type": "execute_result",
          "data": {
            "text/html": [
              "<div>\n",
              "<style scoped>\n",
              "    .dataframe tbody tr th:only-of-type {\n",
              "        vertical-align: middle;\n",
              "    }\n",
              "\n",
              "    .dataframe tbody tr th {\n",
              "        vertical-align: top;\n",
              "    }\n",
              "\n",
              "    .dataframe thead th {\n",
              "        text-align: right;\n",
              "    }\n",
              "</style>\n",
              "<table border=\"1\" class=\"dataframe\">\n",
              "  <thead>\n",
              "    <tr style=\"text-align: right;\">\n",
              "      <th></th>\n",
              "      <th>Cust_Id</th>\n",
              "      <th>Rating</th>\n",
              "      <th>Year</th>\n",
              "      <th>Name</th>\n",
              "    </tr>\n",
              "    <tr>\n",
              "      <th>Movie_Id</th>\n",
              "      <th></th>\n",
              "      <th></th>\n",
              "      <th></th>\n",
              "      <th></th>\n",
              "    </tr>\n",
              "  </thead>\n",
              "  <tbody>\n",
              "    <tr>\n",
              "      <th>28</th>\n",
              "      <td>265</td>\n",
              "      <td>3.0</td>\n",
              "      <td>2002.0</td>\n",
              "      <td>Lilo and Stitch</td>\n",
              "    </tr>\n",
              "    <tr>\n",
              "      <th>30</th>\n",
              "      <td>265</td>\n",
              "      <td>5.0</td>\n",
              "      <td>2003.0</td>\n",
              "      <td>Something's Gotta Give</td>\n",
              "    </tr>\n",
              "    <tr>\n",
              "      <th>111</th>\n",
              "      <td>265</td>\n",
              "      <td>3.0</td>\n",
              "      <td>2003.0</td>\n",
              "      <td>Duplex (Widescreen)</td>\n",
              "    </tr>\n",
              "    <tr>\n",
              "      <th>143</th>\n",
              "      <td>265</td>\n",
              "      <td>4.0</td>\n",
              "      <td>1997.0</td>\n",
              "      <td>The Game</td>\n",
              "    </tr>\n",
              "    <tr>\n",
              "      <th>252</th>\n",
              "      <td>265</td>\n",
              "      <td>4.0</td>\n",
              "      <td>2002.0</td>\n",
              "      <td>Stuart Little 2</td>\n",
              "    </tr>\n",
              "  </tbody>\n",
              "</table>\n",
              "</div>"
            ],
            "text/plain": [
              "          Cust_Id  Rating    Year                    Name\n",
              "Movie_Id                                                 \n",
              "28            265     3.0  2002.0         Lilo and Stitch\n",
              "30            265     5.0  2003.0  Something's Gotta Give\n",
              "111           265     3.0  2003.0     Duplex (Widescreen)\n",
              "143           265     4.0  1997.0                The Game\n",
              "252           265     4.0  2002.0         Stuart Little 2"
            ]
          },
          "metadata": {
            "tags": []
          },
          "execution_count": 27
        }
      ]
    },
    {
      "metadata": {
        "id": "cYY963NdwvbQ",
        "colab_type": "text"
      },
      "cell_type": "markdown",
      "source": [
        "#### predict"
      ]
    },
    {
      "metadata": {
        "id": "2-1sv9ZNkNcF",
        "colab_type": "code",
        "colab": {}
      },
      "cell_type": "code",
      "source": [
        "all_movie = set(df_rating.Movie_Id.unique())"
      ],
      "execution_count": 0,
      "outputs": []
    },
    {
      "metadata": {
        "id": "7Lmaeg0nkazv",
        "colab_type": "code",
        "colab": {}
      },
      "cell_type": "code",
      "source": [
        "movie_rated_265 = set(df_265.index)"
      ],
      "execution_count": 0,
      "outputs": []
    },
    {
      "metadata": {
        "id": "JSl2rNgPkqyw",
        "colab_type": "code",
        "colab": {
          "base_uri": "https://localhost:8080/",
          "height": 35
        },
        "outputId": "1f99b7e0-f478-4436-f481-104c71b1af13"
      },
      "cell_type": "code",
      "source": [
        "movie_predict = all_movie - movie_rated_265\n",
        "type(movie_predict)"
      ],
      "execution_count": 48,
      "outputs": [
        {
          "output_type": "execute_result",
          "data": {
            "text/plain": [
              "set"
            ]
          },
          "metadata": {
            "tags": []
          },
          "execution_count": 48
        }
      ]
    },
    {
      "metadata": {
        "id": "mP5CIhthjVw_",
        "colab_type": "code",
        "colab": {}
      },
      "cell_type": "code",
      "source": [
        "user_265 = df_rating.copy()\n",
        "user_265 = user_265[user_265.Movie_Id.isin(list(movie_predict))]"
      ],
      "execution_count": 0,
      "outputs": []
    },
    {
      "metadata": {
        "id": "cNfAlSFoq7QO",
        "colab_type": "code",
        "colab": {}
      },
      "cell_type": "code",
      "source": [
        "reader = Reader()\n",
        "svd = SVD()\n",
        "\n",
        "# getting full dataset\n",
        "data = Dataset.load_from_df(df_rating[['Cust_Id', 'Movie_Id', 'Rating']][:100000], reader)\n",
        "\n",
        "trainset = data.build_full_trainset()\n",
        "svd.fit(trainset)\n",
        "\n",
        "user_265['Estimate_Score'] = user_265['Movie_Id'].apply(lambda x: svd.predict(265, x).est)"
      ],
      "execution_count": 0,
      "outputs": []
    },
    {
      "metadata": {
        "id": "DFwGQF2vmKJ5",
        "colab_type": "code",
        "colab": {}
      },
      "cell_type": "code",
      "source": [
        "predicted_score_265 = user_265[['Movie_Id', 'Estimate_Score']]\n",
        "predicted_score_265.set_index('Movie_Id', inplace=True, drop=True)\n",
        "predicted_score_265 = predicted_score_265.join(df_movie)"
      ],
      "execution_count": 0,
      "outputs": []
    },
    {
      "metadata": {
        "id": "CwIkkShBq7Ta",
        "colab_type": "code",
        "colab": {}
      },
      "cell_type": "code",
      "source": [
        "predicted_score_265.drop_duplicates(inplace=True)"
      ],
      "execution_count": 0,
      "outputs": []
    },
    {
      "metadata": {
        "id": "5VyT33-brQWR",
        "colab_type": "code",
        "colab": {
          "base_uri": "https://localhost:8080/",
          "height": 382
        },
        "outputId": "3b356cfc-0c0c-4324-be07-6f4592ccc579"
      },
      "cell_type": "code",
      "source": [
        "predicted_score_265.head(10)"
      ],
      "execution_count": 57,
      "outputs": [
        {
          "output_type": "execute_result",
          "data": {
            "text/html": [
              "<div>\n",
              "<style scoped>\n",
              "    .dataframe tbody tr th:only-of-type {\n",
              "        vertical-align: middle;\n",
              "    }\n",
              "\n",
              "    .dataframe tbody tr th {\n",
              "        vertical-align: top;\n",
              "    }\n",
              "\n",
              "    .dataframe thead th {\n",
              "        text-align: right;\n",
              "    }\n",
              "</style>\n",
              "<table border=\"1\" class=\"dataframe\">\n",
              "  <thead>\n",
              "    <tr style=\"text-align: right;\">\n",
              "      <th></th>\n",
              "      <th>Estimate_Score</th>\n",
              "      <th>Year</th>\n",
              "      <th>Name</th>\n",
              "    </tr>\n",
              "    <tr>\n",
              "      <th>Movie_Id</th>\n",
              "      <th></th>\n",
              "      <th></th>\n",
              "      <th></th>\n",
              "    </tr>\n",
              "  </thead>\n",
              "  <tbody>\n",
              "    <tr>\n",
              "      <th>1</th>\n",
              "      <td>4.027603</td>\n",
              "      <td>2003.0</td>\n",
              "      <td>Dinosaur Planet</td>\n",
              "    </tr>\n",
              "    <tr>\n",
              "      <th>2</th>\n",
              "      <td>3.598724</td>\n",
              "      <td>2004.0</td>\n",
              "      <td>Isle of Man TT 2004 Review</td>\n",
              "    </tr>\n",
              "    <tr>\n",
              "      <th>3</th>\n",
              "      <td>3.659545</td>\n",
              "      <td>1997.0</td>\n",
              "      <td>Character</td>\n",
              "    </tr>\n",
              "    <tr>\n",
              "      <th>4</th>\n",
              "      <td>2.667672</td>\n",
              "      <td>1994.0</td>\n",
              "      <td>Paula Abdul's Get Up &amp; Dance</td>\n",
              "    </tr>\n",
              "    <tr>\n",
              "      <th>5</th>\n",
              "      <td>3.914180</td>\n",
              "      <td>2004.0</td>\n",
              "      <td>The Rise and Fall of ECW</td>\n",
              "    </tr>\n",
              "    <tr>\n",
              "      <th>6</th>\n",
              "      <td>2.805141</td>\n",
              "      <td>1997.0</td>\n",
              "      <td>Sick</td>\n",
              "    </tr>\n",
              "    <tr>\n",
              "      <th>7</th>\n",
              "      <td>2.203867</td>\n",
              "      <td>1992.0</td>\n",
              "      <td>8 Man</td>\n",
              "    </tr>\n",
              "    <tr>\n",
              "      <th>8</th>\n",
              "      <td>3.449485</td>\n",
              "      <td>2004.0</td>\n",
              "      <td>What the #$*! Do We Know!?</td>\n",
              "    </tr>\n",
              "    <tr>\n",
              "      <th>9</th>\n",
              "      <td>2.490301</td>\n",
              "      <td>1991.0</td>\n",
              "      <td>Class of Nuke 'Em High 2</td>\n",
              "    </tr>\n",
              "    <tr>\n",
              "      <th>10</th>\n",
              "      <td>3.096046</td>\n",
              "      <td>2001.0</td>\n",
              "      <td>Fighter</td>\n",
              "    </tr>\n",
              "  </tbody>\n",
              "</table>\n",
              "</div>"
            ],
            "text/plain": [
              "          Estimate_Score    Year                          Name\n",
              "Movie_Id                                                      \n",
              "1               4.027603  2003.0               Dinosaur Planet\n",
              "2               3.598724  2004.0    Isle of Man TT 2004 Review\n",
              "3               3.659545  1997.0                     Character\n",
              "4               2.667672  1994.0  Paula Abdul's Get Up & Dance\n",
              "5               3.914180  2004.0      The Rise and Fall of ECW\n",
              "6               2.805141  1997.0                          Sick\n",
              "7               2.203867  1992.0                         8 Man\n",
              "8               3.449485  2004.0    What the #$*! Do We Know!?\n",
              "9               2.490301  1991.0      Class of Nuke 'Em High 2\n",
              "10              3.096046  2001.0                       Fighter"
            ]
          },
          "metadata": {
            "tags": []
          },
          "execution_count": 57
        }
      ]
    },
    {
      "metadata": {
        "id": "Lm7dkYUttjAx",
        "colab_type": "text"
      },
      "cell_type": "markdown",
      "source": [
        "### Baseline"
      ]
    },
    {
      "metadata": {
        "id": "MBWZeBJwtku0",
        "colab_type": "text"
      },
      "cell_type": "markdown",
      "source": [
        "#### train"
      ]
    },
    {
      "metadata": {
        "id": "BobLc7x8tmF1",
        "colab_type": "code",
        "colab": {
          "base_uri": "https://localhost:8080/",
          "height": 552
        },
        "outputId": "3d2bf063-8384-406a-fc91-4aace1fefb69"
      },
      "cell_type": "code",
      "source": [
        "from surprise import BaselineOnly\n",
        "\n",
        "reader = Reader()\n",
        "\n",
        "# get just top 100K rows for faster run time\n",
        "data = Dataset.load_from_df(df_rating[['Cust_Id', 'Movie_Id', 'Rating']][:100000], reader)\n",
        "data.split(n_folds=3)\n",
        "\n",
        "# start timing\n",
        "start = time.clock()\n",
        "\n",
        "# algorithm\n",
        "print('Using ALS')\n",
        "bsl_options = {'method': 'als',\n",
        "               'n_epochs': 5,\n",
        "               'reg_u': 12,\n",
        "               'reg_i': 5\n",
        "               }\n",
        "baseline = BaselineOnly(bsl_options=bsl_options)\n",
        "evaluate(baseline, data, measures=['RMSE', 'MAE'])\n",
        "\n",
        "\n",
        "# end timing\n",
        "end = time.clock()\n",
        "\n",
        "# print runtime\n",
        "print(\"runtime：%s\"%(end-start))"
      ],
      "execution_count": 15,
      "outputs": [
        {
          "output_type": "stream",
          "text": [
            "Using ALS\n",
            "Evaluating RMSE, MAE of algorithm BaselineOnly.\n",
            "\n"
          ],
          "name": "stdout"
        },
        {
          "output_type": "stream",
          "text": [
            "/usr/local/lib/python3.6/dist-packages/surprise/evaluate.py:66: UserWarning: The evaluate() method is deprecated. Please use model_selection.cross_validate() instead.\n",
            "  'model_selection.cross_validate() instead.', UserWarning)\n",
            "/usr/local/lib/python3.6/dist-packages/surprise/dataset.py:193: UserWarning: Using data.split() or using load_from_folds() without using a CV iterator is now deprecated. \n",
            "  UserWarning)\n"
          ],
          "name": "stderr"
        },
        {
          "output_type": "stream",
          "text": [
            "------------\n",
            "Fold 1\n",
            "Estimating biases using als...\n",
            "RMSE: 1.0465\n",
            "MAE:  0.8361\n",
            "------------\n",
            "Fold 2\n",
            "Estimating biases using als...\n",
            "RMSE: 1.0428\n",
            "MAE:  0.8319\n",
            "------------\n",
            "Fold 3\n",
            "Estimating biases using als...\n",
            "RMSE: 1.0450\n",
            "MAE:  0.8333\n",
            "------------\n",
            "------------\n",
            "Mean RMSE: 1.0448\n",
            "Mean MAE : 0.8338\n",
            "------------\n",
            "------------\n",
            "runtime：2.890316999999982\n"
          ],
          "name": "stdout"
        }
      ]
    },
    {
      "metadata": {
        "id": "ceJ27WVTrVno",
        "colab_type": "text"
      },
      "cell_type": "markdown",
      "source": [
        "# Conclusion"
      ]
    },
    {
      "metadata": {
        "id": "5_DokrbB0RKK",
        "colab_type": "text"
      },
      "cell_type": "markdown",
      "source": [
        "compare runtime: Baseline algorithm v. SVD\n",
        "\n",
        "Baseline runtime was 2.89s, SVD was 18.22s "
      ]
    }
  ]
}