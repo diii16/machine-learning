{
  "nbformat": 4,
  "nbformat_minor": 0,
  "metadata": {
    "colab": {
      "name": "heart_disease_prediction.ipynb",
      "version": "0.3.2",
      "provenance": [],
      "toc_visible": true,
      "include_colab_link": true
    },
    "kernelspec": {
      "name": "python3",
      "display_name": "Python 3"
    },
    "accelerator": "TPU"
  },
  "cells": [
    {
      "cell_type": "markdown",
      "metadata": {
        "id": "view-in-github",
        "colab_type": "text"
      },
      "source": [
        "<a href=\"https://colab.research.google.com/github/linkwine/machine-learning/blob/master/heart_disease_prediction.ipynb\" target=\"_parent\"><img src=\"https://colab.research.google.com/assets/colab-badge.svg\" alt=\"Open In Colab\"/></a>"
      ]
    },
    {
      "cell_type": "markdown",
      "metadata": {
        "id": "uDaZG9-JlGq8",
        "colab_type": "text"
      },
      "source": [
        "# Heart Disease Prediction\n",
        "\n",
        "![heart](https://www.worldkidneyday.org/wp-content/uploads/2018/06/Cardiovascular.png)\n",
        "\n",
        "\n",
        "Data source: UCI Heart disease data (https://archive.ics.uci.edu/ml/datasets/Heart+Disease)\n",
        "\n",
        "The Cleveland data is used in this project.\n",
        "\n",
        "\n",
        "###Attribute Information:\n",
        "1. age \n",
        "2. sex (1= male, 0 =female)\n",
        "3. cp: chest pain type \n",
        "-- Value 1: typical angina \n",
        "-- Value 2: atypical angina \n",
        "-- Value 3: non-anginal pain \n",
        "-- Value 4: asymptomatic \n",
        "4. resting blood pressure (in mm Hg on admission to the hospital)  \n",
        "5. serum cholestoral in mg/dl \n",
        "6. fasting blood sugar > 120 mg/dl (1 = true; 0 = false)  \n",
        "7. resting electrocardiographic results \n",
        "-- Value 0: normal \n",
        "-- Value 1: having ST-T wave abnormality (T wave inversions and/or ST elevation or depression of > 0.05 mV) \n",
        "-- Value 2: showing probable or definite left ventricular hypertrophy by Estes' criteria \n",
        "8. maximum heart rate achieved \n",
        "9. exercise induced angina (1 = yes; 0 = no)  \n",
        "10. ST depression induced by exercise relative to rest \n",
        "11. slope: the slope of the peak exercise ST segment \n",
        "-- Value 1: upsloping \n",
        "-- Value 2: flat \n",
        "-- Value 3: downsloping \n",
        "12. number of major vessels (0-3) colored by flourosopy \n",
        "13. thal: 3 = normal; 6 = fixed defect; 7 = reversable defect \n",
        "14. num: diagnosis of heart disease (angiographic disease status) \n",
        "-- Value 0: < 50% diameter narrowing \n",
        "-- Value 1: > 50% diameter narrowing \n"
      ]
    },
    {
      "cell_type": "markdown",
      "metadata": {
        "id": "LEgNYnC2lZZB",
        "colab_type": "text"
      },
      "source": [
        "# 1. Ingest"
      ]
    },
    {
      "cell_type": "markdown",
      "metadata": {
        "id": "s7OKdGSem_c6",
        "colab_type": "text"
      },
      "source": [
        "## 1.1 Load Library"
      ]
    },
    {
      "cell_type": "code",
      "metadata": {
        "id": "jV_9ba6Omtot",
        "colab_type": "code",
        "outputId": "2a65e248-f330-43f4-cafd-6949ea9e5cfe",
        "colab": {
          "base_uri": "https://localhost:8080/",
          "height": 245
        }
      },
      "source": [
        "!pip3 install seaborn==0.9.0\n"
      ],
      "execution_count": 0,
      "outputs": [
        {
          "output_type": "stream",
          "text": [
            "Requirement already satisfied: seaborn==0.9.0 in /usr/local/lib/python3.6/dist-packages (0.9.0)\n",
            "Requirement already satisfied: numpy>=1.9.3 in /usr/local/lib/python3.6/dist-packages (from seaborn==0.9.0) (1.16.3)\n",
            "Requirement already satisfied: pandas>=0.15.2 in /usr/local/lib/python3.6/dist-packages (from seaborn==0.9.0) (0.24.2)\n",
            "Requirement already satisfied: scipy>=0.14.0 in /usr/local/lib/python3.6/dist-packages (from seaborn==0.9.0) (1.2.1)\n",
            "Requirement already satisfied: matplotlib>=1.4.3 in /usr/local/lib/python3.6/dist-packages (from seaborn==0.9.0) (3.0.3)\n",
            "Requirement already satisfied: python-dateutil>=2.5.0 in /usr/local/lib/python3.6/dist-packages (from pandas>=0.15.2->seaborn==0.9.0) (2.5.3)\n",
            "Requirement already satisfied: pytz>=2011k in /usr/local/lib/python3.6/dist-packages (from pandas>=0.15.2->seaborn==0.9.0) (2018.9)\n",
            "Requirement already satisfied: kiwisolver>=1.0.1 in /usr/local/lib/python3.6/dist-packages (from matplotlib>=1.4.3->seaborn==0.9.0) (1.1.0)\n",
            "Requirement already satisfied: cycler>=0.10 in /usr/local/lib/python3.6/dist-packages (from matplotlib>=1.4.3->seaborn==0.9.0) (0.10.0)\n",
            "Requirement already satisfied: pyparsing!=2.0.4,!=2.1.2,!=2.1.6,>=2.0.1 in /usr/local/lib/python3.6/dist-packages (from matplotlib>=1.4.3->seaborn==0.9.0) (2.4.0)\n",
            "Requirement already satisfied: six>=1.5 in /usr/local/lib/python3.6/dist-packages (from python-dateutil>=2.5.0->pandas>=0.15.2->seaborn==0.9.0) (1.12.0)\n",
            "Requirement already satisfied: setuptools in /usr/local/lib/python3.6/dist-packages (from kiwisolver>=1.0.1->matplotlib>=1.4.3->seaborn==0.9.0) (41.0.1)\n"
          ],
          "name": "stdout"
        }
      ]
    },
    {
      "cell_type": "code",
      "metadata": {
        "id": "DkIUBTzzoA7h",
        "colab_type": "code",
        "colab": {}
      },
      "source": [
        "import pandas as pd\n",
        "import matplotlib.pyplot as plt\n",
        "import seaborn as sns\n",
        "import numpy as np"
      ],
      "execution_count": 0,
      "outputs": []
    },
    {
      "cell_type": "markdown",
      "metadata": {
        "id": "u9DGuE-KnC6g",
        "colab_type": "text"
      },
      "source": [
        "##1.2 Load data from Google Drive"
      ]
    },
    {
      "cell_type": "code",
      "metadata": {
        "id": "6Q-izi68my5y",
        "colab_type": "code",
        "outputId": "08336db7-ffda-49e2-b1a2-4c44c1e104fc",
        "colab": {
          "base_uri": "https://localhost:8080/",
          "height": 173
        }
      },
      "source": [
        "# Code to read csv file into Colaboratory:\n",
        "!pip install -U -q PyDrive\n",
        "from pydrive.auth import GoogleAuth\n",
        "from pydrive.drive import GoogleDrive\n",
        "from google.colab import auth\n",
        "from oauth2client.client import GoogleCredentials\n",
        "# Authenticate and create the PyDrive client.\n",
        "auth.authenticate_user()\n",
        "gauth = GoogleAuth()\n",
        "gauth.credentials = GoogleCredentials.get_application_default()\n",
        "drive = GoogleDrive(gauth)"
      ],
      "execution_count": 0,
      "outputs": [
        {
          "output_type": "stream",
          "text": [
            "\u001b[?25l\r\u001b[K     |▎                               | 10kB 16.1MB/s eta 0:00:01\r\u001b[K     |▋                               | 20kB 2.3MB/s eta 0:00:01\r\u001b[K     |█                               | 30kB 3.3MB/s eta 0:00:01\r\u001b[K     |█▎                              | 40kB 2.1MB/s eta 0:00:01\r\u001b[K     |█▋                              | 51kB 2.6MB/s eta 0:00:01\r\u001b[K     |██                              | 61kB 3.1MB/s eta 0:00:01\r\u001b[K     |██▎                             | 71kB 3.6MB/s eta 0:00:01\r\u001b[K     |██▋                             | 81kB 4.1MB/s eta 0:00:01\r\u001b[K     |███                             | 92kB 4.6MB/s eta 0:00:01\r\u001b[K     |███▎                            | 102kB 3.5MB/s eta 0:00:01\r\u001b[K     |███▋                            | 112kB 3.5MB/s eta 0:00:01\r\u001b[K     |████                            | 122kB 3.5MB/s eta 0:00:01\r\u001b[K     |████▎                           | 133kB 3.5MB/s eta 0:00:01\r\u001b[K     |████▋                           | 143kB 3.5MB/s eta 0:00:01\r\u001b[K     |█████                           | 153kB 3.5MB/s eta 0:00:01\r\u001b[K     |█████▎                          | 163kB 3.5MB/s eta 0:00:01\r\u001b[K     |█████▋                          | 174kB 3.5MB/s eta 0:00:01\r\u001b[K     |██████                          | 184kB 3.5MB/s eta 0:00:01\r\u001b[K     |██████▎                         | 194kB 3.5MB/s eta 0:00:01\r\u001b[K     |██████▋                         | 204kB 3.5MB/s eta 0:00:01\r\u001b[K     |███████                         | 215kB 3.5MB/s eta 0:00:01\r\u001b[K     |███████▎                        | 225kB 3.5MB/s eta 0:00:01\r\u001b[K     |███████▋                        | 235kB 3.5MB/s eta 0:00:01\r\u001b[K     |████████                        | 245kB 3.5MB/s eta 0:00:01\r\u001b[K     |████████▎                       | 256kB 3.5MB/s eta 0:00:01\r\u001b[K     |████████▋                       | 266kB 3.5MB/s eta 0:00:01\r\u001b[K     |█████████                       | 276kB 3.5MB/s eta 0:00:01\r\u001b[K     |█████████▎                      | 286kB 3.5MB/s eta 0:00:01\r\u001b[K     |█████████▋                      | 296kB 3.5MB/s eta 0:00:01\r\u001b[K     |██████████                      | 307kB 3.5MB/s eta 0:00:01\r\u001b[K     |██████████▎                     | 317kB 3.5MB/s eta 0:00:01\r\u001b[K     |██████████▋                     | 327kB 3.5MB/s eta 0:00:01\r\u001b[K     |███████████                     | 337kB 3.5MB/s eta 0:00:01\r\u001b[K     |███████████▎                    | 348kB 3.5MB/s eta 0:00:01\r\u001b[K     |███████████▋                    | 358kB 3.5MB/s eta 0:00:01\r\u001b[K     |████████████                    | 368kB 3.5MB/s eta 0:00:01\r\u001b[K     |████████████▎                   | 378kB 3.5MB/s eta 0:00:01\r\u001b[K     |████████████▋                   | 389kB 3.5MB/s eta 0:00:01\r\u001b[K     |█████████████                   | 399kB 3.5MB/s eta 0:00:01\r\u001b[K     |█████████████▎                  | 409kB 3.5MB/s eta 0:00:01\r\u001b[K     |█████████████▋                  | 419kB 3.5MB/s eta 0:00:01\r\u001b[K     |██████████████                  | 430kB 3.5MB/s eta 0:00:01\r\u001b[K     |██████████████▎                 | 440kB 3.5MB/s eta 0:00:01\r\u001b[K     |██████████████▋                 | 450kB 3.5MB/s eta 0:00:01\r\u001b[K     |███████████████                 | 460kB 3.5MB/s eta 0:00:01\r\u001b[K     |███████████████▎                | 471kB 3.5MB/s eta 0:00:01\r\u001b[K     |███████████████▋                | 481kB 3.5MB/s eta 0:00:01\r\u001b[K     |████████████████                | 491kB 3.5MB/s eta 0:00:01\r\u001b[K     |████████████████▎               | 501kB 3.5MB/s eta 0:00:01\r\u001b[K     |████████████████▋               | 512kB 3.5MB/s eta 0:00:01\r\u001b[K     |█████████████████               | 522kB 3.5MB/s eta 0:00:01\r\u001b[K     |█████████████████▎              | 532kB 3.5MB/s eta 0:00:01\r\u001b[K     |█████████████████▋              | 542kB 3.5MB/s eta 0:00:01\r\u001b[K     |██████████████████              | 552kB 3.5MB/s eta 0:00:01\r\u001b[K     |██████████████████▎             | 563kB 3.5MB/s eta 0:00:01\r\u001b[K     |██████████████████▋             | 573kB 3.5MB/s eta 0:00:01\r\u001b[K     |███████████████████             | 583kB 3.5MB/s eta 0:00:01\r\u001b[K     |███████████████████▎            | 593kB 3.5MB/s eta 0:00:01\r\u001b[K     |███████████████████▋            | 604kB 3.5MB/s eta 0:00:01\r\u001b[K     |████████████████████            | 614kB 3.5MB/s eta 0:00:01\r\u001b[K     |████████████████████▎           | 624kB 3.5MB/s eta 0:00:01\r\u001b[K     |████████████████████▋           | 634kB 3.5MB/s eta 0:00:01\r\u001b[K     |█████████████████████           | 645kB 3.5MB/s eta 0:00:01\r\u001b[K     |█████████████████████▎          | 655kB 3.5MB/s eta 0:00:01\r\u001b[K     |█████████████████████▋          | 665kB 3.5MB/s eta 0:00:01\r\u001b[K     |██████████████████████          | 675kB 3.5MB/s eta 0:00:01\r\u001b[K     |██████████████████████▎         | 686kB 3.5MB/s eta 0:00:01\r\u001b[K     |██████████████████████▋         | 696kB 3.5MB/s eta 0:00:01\r\u001b[K     |███████████████████████         | 706kB 3.5MB/s eta 0:00:01\r\u001b[K     |███████████████████████▎        | 716kB 3.5MB/s eta 0:00:01\r\u001b[K     |███████████████████████▋        | 727kB 3.5MB/s eta 0:00:01\r\u001b[K     |████████████████████████        | 737kB 3.5MB/s eta 0:00:01\r\u001b[K     |████████████████████████▎       | 747kB 3.5MB/s eta 0:00:01\r\u001b[K     |████████████████████████▋       | 757kB 3.5MB/s eta 0:00:01\r\u001b[K     |████████████████████████▉       | 768kB 3.5MB/s eta 0:00:01\r\u001b[K     |█████████████████████████▏      | 778kB 3.5MB/s eta 0:00:01\r\u001b[K     |█████████████████████████▌      | 788kB 3.5MB/s eta 0:00:01\r\u001b[K     |█████████████████████████▉      | 798kB 3.5MB/s eta 0:00:01\r\u001b[K     |██████████████████████████▏     | 808kB 3.5MB/s eta 0:00:01\r\u001b[K     |██████████████████████████▌     | 819kB 3.5MB/s eta 0:00:01\r\u001b[K     |██████████████████████████▉     | 829kB 3.5MB/s eta 0:00:01\r\u001b[K     |███████████████████████████▏    | 839kB 3.5MB/s eta 0:00:01\r\u001b[K     |███████████████████████████▌    | 849kB 3.5MB/s eta 0:00:01\r\u001b[K     |███████████████████████████▉    | 860kB 3.5MB/s eta 0:00:01\r\u001b[K     |████████████████████████████▏   | 870kB 3.5MB/s eta 0:00:01\r\u001b[K     |████████████████████████████▌   | 880kB 3.5MB/s eta 0:00:01\r\u001b[K     |████████████████████████████▉   | 890kB 3.5MB/s eta 0:00:01\r\u001b[K     |█████████████████████████████▏  | 901kB 3.5MB/s eta 0:00:01\r\u001b[K     |█████████████████████████████▌  | 911kB 3.5MB/s eta 0:00:01\r\u001b[K     |█████████████████████████████▉  | 921kB 3.5MB/s eta 0:00:01\r\u001b[K     |██████████████████████████████▏ | 931kB 3.5MB/s eta 0:00:01\r\u001b[K     |██████████████████████████████▌ | 942kB 3.5MB/s eta 0:00:01\r\u001b[K     |██████████████████████████████▉ | 952kB 3.5MB/s eta 0:00:01\r\u001b[K     |███████████████████████████████▏| 962kB 3.5MB/s eta 0:00:01\r\u001b[K     |███████████████████████████████▌| 972kB 3.5MB/s eta 0:00:01\r\u001b[K     |███████████████████████████████▉| 983kB 3.5MB/s eta 0:00:01\r\u001b[K     |████████████████████████████████| 993kB 3.5MB/s \n",
            "\u001b[?25h  Building wheel for PyDrive (setup.py) ... \u001b[?25l\u001b[?25hdone\n",
            "\n",
            "WARNING: The TensorFlow contrib module will not be included in TensorFlow 2.0.\n",
            "For more information, please see:\n",
            "  * https://github.com/tensorflow/community/blob/master/rfcs/20180907-contrib-sunset.md\n",
            "  * https://github.com/tensorflow/addons\n",
            "If you depend on functionality not listed there, please file an issue.\n",
            "\n"
          ],
          "name": "stdout"
        }
      ]
    },
    {
      "cell_type": "code",
      "metadata": {
        "id": "sdWotsbyvPKp",
        "colab_type": "code",
        "colab": {}
      },
      "source": [
        "id = '1Ih0M_0syAizD_JHMtChBlXh0JygyId2w'"
      ],
      "execution_count": 0,
      "outputs": []
    },
    {
      "cell_type": "code",
      "metadata": {
        "colab_type": "code",
        "id": "T5_c9mA-vK_3",
        "colab": {}
      },
      "source": [
        "downloaded = drive.CreateFile({'id':id}) \n",
        "downloaded.GetContentFile('processed.cleveland.data')  \n",
        "df = pd.read_csv('processed.cleveland.data', header = None)\n",
        "# Dataset is now stored in a Pandas Dataframe"
      ],
      "execution_count": 0,
      "outputs": []
    },
    {
      "cell_type": "markdown",
      "metadata": {
        "id": "PNd9OTxUlGxV",
        "colab_type": "text"
      },
      "source": [
        "# 2. Data Cleaning"
      ]
    },
    {
      "cell_type": "code",
      "metadata": {
        "colab_type": "code",
        "id": "Zau5YGdevHj2",
        "colab": {}
      },
      "source": [
        "#assign column name\n",
        "\n",
        "df.columns = ['age', 'sex', 'chest_pain', 'blood_pressure', 'cholesterol', 'blood_sugar', 'electrocardiography', 'max_heart_rate',\n",
        "              'exercise_induced_angina', 'ST_depresion','slope', 'flourosopy', 'thal', 'diagnosis']"
      ],
      "execution_count": 0,
      "outputs": []
    },
    {
      "cell_type": "code",
      "metadata": {
        "id": "OPBNn0PMxI73",
        "colab_type": "code",
        "outputId": "e7167fe0-841c-4f3c-a272-915b8eaf076e",
        "colab": {
          "base_uri": "https://localhost:8080/",
          "height": 222
        }
      },
      "source": [
        "#view data\n",
        "\n",
        "df.head()"
      ],
      "execution_count": 0,
      "outputs": [
        {
          "output_type": "execute_result",
          "data": {
            "text/html": [
              "<div>\n",
              "<style scoped>\n",
              "    .dataframe tbody tr th:only-of-type {\n",
              "        vertical-align: middle;\n",
              "    }\n",
              "\n",
              "    .dataframe tbody tr th {\n",
              "        vertical-align: top;\n",
              "    }\n",
              "\n",
              "    .dataframe thead th {\n",
              "        text-align: right;\n",
              "    }\n",
              "</style>\n",
              "<table border=\"1\" class=\"dataframe\">\n",
              "  <thead>\n",
              "    <tr style=\"text-align: right;\">\n",
              "      <th></th>\n",
              "      <th>age</th>\n",
              "      <th>sex</th>\n",
              "      <th>chest_pain</th>\n",
              "      <th>blood_pressure</th>\n",
              "      <th>cholesterol</th>\n",
              "      <th>blood_sugar</th>\n",
              "      <th>electrocardiography</th>\n",
              "      <th>max_heart_rate</th>\n",
              "      <th>exercise_induced_angina</th>\n",
              "      <th>ST_depresion</th>\n",
              "      <th>slope</th>\n",
              "      <th>flourosopy</th>\n",
              "      <th>thal</th>\n",
              "      <th>diagnosis</th>\n",
              "    </tr>\n",
              "  </thead>\n",
              "  <tbody>\n",
              "    <tr>\n",
              "      <th>0</th>\n",
              "      <td>63.0</td>\n",
              "      <td>1.0</td>\n",
              "      <td>1.0</td>\n",
              "      <td>145.0</td>\n",
              "      <td>233.0</td>\n",
              "      <td>1.0</td>\n",
              "      <td>2.0</td>\n",
              "      <td>150.0</td>\n",
              "      <td>0.0</td>\n",
              "      <td>2.3</td>\n",
              "      <td>3.0</td>\n",
              "      <td>0.0</td>\n",
              "      <td>6.0</td>\n",
              "      <td>0</td>\n",
              "    </tr>\n",
              "    <tr>\n",
              "      <th>1</th>\n",
              "      <td>67.0</td>\n",
              "      <td>1.0</td>\n",
              "      <td>4.0</td>\n",
              "      <td>160.0</td>\n",
              "      <td>286.0</td>\n",
              "      <td>0.0</td>\n",
              "      <td>2.0</td>\n",
              "      <td>108.0</td>\n",
              "      <td>1.0</td>\n",
              "      <td>1.5</td>\n",
              "      <td>2.0</td>\n",
              "      <td>3.0</td>\n",
              "      <td>3.0</td>\n",
              "      <td>2</td>\n",
              "    </tr>\n",
              "    <tr>\n",
              "      <th>2</th>\n",
              "      <td>67.0</td>\n",
              "      <td>1.0</td>\n",
              "      <td>4.0</td>\n",
              "      <td>120.0</td>\n",
              "      <td>229.0</td>\n",
              "      <td>0.0</td>\n",
              "      <td>2.0</td>\n",
              "      <td>129.0</td>\n",
              "      <td>1.0</td>\n",
              "      <td>2.6</td>\n",
              "      <td>2.0</td>\n",
              "      <td>2.0</td>\n",
              "      <td>7.0</td>\n",
              "      <td>1</td>\n",
              "    </tr>\n",
              "    <tr>\n",
              "      <th>3</th>\n",
              "      <td>37.0</td>\n",
              "      <td>1.0</td>\n",
              "      <td>3.0</td>\n",
              "      <td>130.0</td>\n",
              "      <td>250.0</td>\n",
              "      <td>0.0</td>\n",
              "      <td>0.0</td>\n",
              "      <td>187.0</td>\n",
              "      <td>0.0</td>\n",
              "      <td>3.5</td>\n",
              "      <td>3.0</td>\n",
              "      <td>0.0</td>\n",
              "      <td>3.0</td>\n",
              "      <td>0</td>\n",
              "    </tr>\n",
              "    <tr>\n",
              "      <th>4</th>\n",
              "      <td>41.0</td>\n",
              "      <td>0.0</td>\n",
              "      <td>2.0</td>\n",
              "      <td>130.0</td>\n",
              "      <td>204.0</td>\n",
              "      <td>0.0</td>\n",
              "      <td>2.0</td>\n",
              "      <td>172.0</td>\n",
              "      <td>0.0</td>\n",
              "      <td>1.4</td>\n",
              "      <td>1.0</td>\n",
              "      <td>0.0</td>\n",
              "      <td>3.0</td>\n",
              "      <td>0</td>\n",
              "    </tr>\n",
              "  </tbody>\n",
              "</table>\n",
              "</div>"
            ],
            "text/plain": [
              "    age  sex  chest_pain  blood_pressure  cholesterol  blood_sugar  \\\n",
              "0  63.0  1.0         1.0           145.0        233.0          1.0   \n",
              "1  67.0  1.0         4.0           160.0        286.0          0.0   \n",
              "2  67.0  1.0         4.0           120.0        229.0          0.0   \n",
              "3  37.0  1.0         3.0           130.0        250.0          0.0   \n",
              "4  41.0  0.0         2.0           130.0        204.0          0.0   \n",
              "\n",
              "   electrocardiography  max_heart_rate  exercise_induced_angina  ST_depresion  \\\n",
              "0                  2.0           150.0                      0.0           2.3   \n",
              "1                  2.0           108.0                      1.0           1.5   \n",
              "2                  2.0           129.0                      1.0           2.6   \n",
              "3                  0.0           187.0                      0.0           3.5   \n",
              "4                  2.0           172.0                      0.0           1.4   \n",
              "\n",
              "   slope flourosopy thal  diagnosis  \n",
              "0    3.0        0.0  6.0          0  \n",
              "1    2.0        3.0  3.0          2  \n",
              "2    2.0        2.0  7.0          1  \n",
              "3    3.0        0.0  3.0          0  \n",
              "4    1.0        0.0  3.0          0  "
            ]
          },
          "metadata": {
            "tags": []
          },
          "execution_count": 7
        }
      ]
    },
    {
      "cell_type": "code",
      "metadata": {
        "id": "9zya5LrrHV7t",
        "colab_type": "code",
        "outputId": "8c5e4749-aa2b-4988-8b18-72dcd0953a79",
        "colab": {
          "base_uri": "https://localhost:8080/",
          "height": 87
        }
      },
      "source": [
        "df.electrocardiography.value_counts()"
      ],
      "execution_count": 0,
      "outputs": [
        {
          "output_type": "execute_result",
          "data": {
            "text/plain": [
              "0.0    151\n",
              "2.0    148\n",
              "1.0      4\n",
              "Name: electrocardiography, dtype: int64"
            ]
          },
          "metadata": {
            "tags": []
          },
          "execution_count": 8
        }
      ]
    },
    {
      "cell_type": "code",
      "metadata": {
        "id": "YX0Q-7DDx35l",
        "colab_type": "code",
        "outputId": "6ac9dc3d-af59-467a-9f47-ed87b7dba4b8",
        "colab": {
          "base_uri": "https://localhost:8080/",
          "height": 347
        }
      },
      "source": [
        "df.info()"
      ],
      "execution_count": 0,
      "outputs": [
        {
          "output_type": "stream",
          "text": [
            "<class 'pandas.core.frame.DataFrame'>\n",
            "RangeIndex: 303 entries, 0 to 302\n",
            "Data columns (total 14 columns):\n",
            "age                        303 non-null float64\n",
            "sex                        303 non-null float64\n",
            "chest_pain                 303 non-null float64\n",
            "blood_pressure             303 non-null float64\n",
            "cholesterol                303 non-null float64\n",
            "blood_sugar                303 non-null float64\n",
            "electrocardiography        303 non-null float64\n",
            "max_heart_rate             303 non-null float64\n",
            "exercise_induced_angina    303 non-null float64\n",
            "ST_depresion               303 non-null float64\n",
            "slope                      303 non-null float64\n",
            "flourosopy                 303 non-null object\n",
            "thal                       303 non-null object\n",
            "diagnosis                  303 non-null int64\n",
            "dtypes: float64(11), int64(1), object(2)\n",
            "memory usage: 33.2+ KB\n"
          ],
          "name": "stdout"
        }
      ]
    },
    {
      "cell_type": "code",
      "metadata": {
        "id": "tKBsQFVIyJDh",
        "colab_type": "code",
        "colab": {}
      },
      "source": [
        "# replace '?' with most frequent values\n",
        "\n",
        "df.flourosopy.replace('?', '0.0', inplace=True)\n",
        "df.thal.replace('?', '3.0', inplace=True)"
      ],
      "execution_count": 0,
      "outputs": []
    },
    {
      "cell_type": "code",
      "metadata": {
        "id": "v6dbT7aozbG1",
        "colab_type": "code",
        "colab": {}
      },
      "source": [
        "# convert string to float\n",
        "\n",
        "df.flourosopy = df.flourosopy.astype('float')\n",
        "df.thal = df.thal.astype('float')\n"
      ],
      "execution_count": 0,
      "outputs": []
    },
    {
      "cell_type": "code",
      "metadata": {
        "id": "vBCH6jkQx62w",
        "colab_type": "code",
        "outputId": "eeec018b-c166-4b10-992b-23ce35b577b2",
        "colab": {
          "base_uri": "https://localhost:8080/",
          "height": 347
        }
      },
      "source": [
        "df.info()"
      ],
      "execution_count": 0,
      "outputs": [
        {
          "output_type": "stream",
          "text": [
            "<class 'pandas.core.frame.DataFrame'>\n",
            "RangeIndex: 303 entries, 0 to 302\n",
            "Data columns (total 14 columns):\n",
            "age                        303 non-null float64\n",
            "sex                        303 non-null float64\n",
            "chest_pain                 303 non-null float64\n",
            "blood_pressure             303 non-null float64\n",
            "cholesterol                303 non-null float64\n",
            "blood_sugar                303 non-null float64\n",
            "electrocardiography        303 non-null float64\n",
            "max_heart_rate             303 non-null float64\n",
            "exercise_induced_angina    303 non-null float64\n",
            "ST_depresion               303 non-null float64\n",
            "slope                      303 non-null float64\n",
            "flourosopy                 303 non-null float64\n",
            "thal                       303 non-null float64\n",
            "diagnosis                  303 non-null int64\n",
            "dtypes: float64(13), int64(1)\n",
            "memory usage: 33.2 KB\n"
          ],
          "name": "stdout"
        }
      ]
    },
    {
      "cell_type": "markdown",
      "metadata": {
        "id": "6HlHLNWKlG0D",
        "colab_type": "text"
      },
      "source": [
        "# 3. EDA"
      ]
    },
    {
      "cell_type": "code",
      "metadata": {
        "id": "CWwKPsaK0H6m",
        "colab_type": "code",
        "colab": {}
      },
      "source": [
        "sns.set(color_codes=True)"
      ],
      "execution_count": 0,
      "outputs": []
    },
    {
      "cell_type": "code",
      "metadata": {
        "id": "7Co7S8qeOr1d",
        "colab_type": "code",
        "outputId": "7f30e656-c7a8-4dde-b34b-745f72e396b6",
        "colab": {
          "base_uri": "https://localhost:8080/",
          "height": 309
        }
      },
      "source": [
        "#a count of number of people fall in each diagnosis category\n",
        "sns.countplot(df.diagnosis, palette='Set2')\n",
        "\n",
        "#around half of the people (160 people) in this dataset were not diagnosed as having heart disease"
      ],
      "execution_count": 0,
      "outputs": [
        {
          "output_type": "execute_result",
          "data": {
            "text/plain": [
              "<matplotlib.axes._subplots.AxesSubplot at 0x7f52224ccc18>"
            ]
          },
          "metadata": {
            "tags": []
          },
          "execution_count": 26
        },
        {
          "output_type": "display_data",
          "data": {
            "image/png": "[encoded data removed]",
            "text/plain": [
              "<Figure size 432x288 with 1 Axes>"
            ]
          },
          "metadata": {
            "tags": []
          }
        }
      ]
    },
    {
      "cell_type": "code",
      "metadata": {
        "id": "24uQ0BOsSbr4",
        "colab_type": "code",
        "outputId": "41199111-e0f8-45cf-ccd6-0ccd7afd8b9b",
        "colab": {
          "base_uri": "https://localhost:8080/",
          "height": 309
        }
      },
      "source": [
        "sns.countplot(df.sex, palette='Set1')\n",
        "\n",
        "# dataset includes roughly 100 females, 200 males"
      ],
      "execution_count": 0,
      "outputs": [
        {
          "output_type": "execute_result",
          "data": {
            "text/plain": [
              "<matplotlib.axes._subplots.AxesSubplot at 0x7f5221fa2898>"
            ]
          },
          "metadata": {
            "tags": []
          },
          "execution_count": 27
        },
        {
          "output_type": "display_data",
          "data": {
            "image/png": "[encoded data removed]",
            "text/plain": [
              "<Figure size 432x288 with 1 Axes>"
            ]
          },
          "metadata": {
            "tags": []
          }
        }
      ]
    },
    {
      "cell_type": "code",
      "metadata": {
        "id": "hhbDh4l5RIiy",
        "colab_type": "code",
        "outputId": "a782a464-f709-4d21-fafc-0397f74f4b99",
        "colab": {
          "base_uri": "https://localhost:8080/",
          "height": 110
        }
      },
      "source": [
        "# change the variable to binary\n",
        "\n",
        "# add column 'heart_disease', set value to 0\n",
        "df['heart_disease'] = 0\n",
        "# Set value (1) for all items when diagnosis = 1,2,3 or 4\n",
        "df.loc[df['diagnosis'] != 0, 'heart_disease'] = 1\n",
        " \n",
        "df[['sex', 'heart_disease']].groupby(['sex'], as_index=False).mean()\n",
        "\n",
        "# 25% of women(0) have heart disease, 55% of men have heart disease\n",
        "# a higher percentage of men have heart disease"
      ],
      "execution_count": 0,
      "outputs": [
        {
          "output_type": "execute_result",
          "data": {
            "text/html": [
              "<div>\n",
              "<style scoped>\n",
              "    .dataframe tbody tr th:only-of-type {\n",
              "        vertical-align: middle;\n",
              "    }\n",
              "\n",
              "    .dataframe tbody tr th {\n",
              "        vertical-align: top;\n",
              "    }\n",
              "\n",
              "    .dataframe thead th {\n",
              "        text-align: right;\n",
              "    }\n",
              "</style>\n",
              "<table border=\"1\" class=\"dataframe\">\n",
              "  <thead>\n",
              "    <tr style=\"text-align: right;\">\n",
              "      <th></th>\n",
              "      <th>sex</th>\n",
              "      <th>heart_disease</th>\n",
              "    </tr>\n",
              "  </thead>\n",
              "  <tbody>\n",
              "    <tr>\n",
              "      <th>0</th>\n",
              "      <td>0.0</td>\n",
              "      <td>0.257732</td>\n",
              "    </tr>\n",
              "    <tr>\n",
              "      <th>1</th>\n",
              "      <td>1.0</td>\n",
              "      <td>0.553398</td>\n",
              "    </tr>\n",
              "  </tbody>\n",
              "</table>\n",
              "</div>"
            ],
            "text/plain": [
              "   sex  heart_disease\n",
              "0  0.0       0.257732\n",
              "1  1.0       0.553398"
            ]
          },
          "metadata": {
            "tags": []
          },
          "execution_count": 13
        }
      ]
    },
    {
      "cell_type": "code",
      "metadata": {
        "id": "vHjHNd6IPlvo",
        "colab_type": "code",
        "outputId": "f01ccce6-e331-474b-c7c0-0a79ffafb37d",
        "colab": {
          "base_uri": "https://localhost:8080/",
          "height": 309
        }
      },
      "source": [
        "sns.distplot(df.age)\n",
        "#majority of people are from 35 to 75"
      ],
      "execution_count": 0,
      "outputs": [
        {
          "output_type": "execute_result",
          "data": {
            "text/plain": [
              "<matplotlib.axes._subplots.AxesSubplot at 0x7f52224d56d8>"
            ]
          },
          "metadata": {
            "tags": []
          },
          "execution_count": 29
        },
        {
          "output_type": "display_data",
          "data": {
            "image/png": "[encoded data removed]",
            "text/plain": [
              "<Figure size 432x288 with 1 Axes>"
            ]
          },
          "metadata": {
            "tags": []
          }
        }
      ]
    },
    {
      "cell_type": "code",
      "metadata": {
        "id": "vvcV8OFIQZVm",
        "colab_type": "code",
        "colab": {}
      },
      "source": [
        "#convert age into 4 subgroups\n"
      ],
      "execution_count": 0,
      "outputs": []
    },
    {
      "cell_type": "code",
      "metadata": {
        "id": "mZ-QmJoS7ylR",
        "colab_type": "code",
        "outputId": "83c5cd29-f91a-4191-f4cc-440df3ceb917",
        "colab": {
          "base_uri": "https://localhost:8080/",
          "height": 309
        }
      },
      "source": [
        "sns.distplot(df[df['diagnosis'] == 0]['age'])"
      ],
      "execution_count": 0,
      "outputs": [
        {
          "output_type": "execute_result",
          "data": {
            "text/plain": [
              "<matplotlib.axes._subplots.AxesSubplot at 0x7f521fe9bd30>"
            ]
          },
          "metadata": {
            "tags": []
          },
          "execution_count": 30
        },
        {
          "output_type": "display_data",
          "data": {
            "image/png": "[encoded data removed]",
            "text/plain": [
              "<Figure size 432x288 with 1 Axes>"
            ]
          },
          "metadata": {
            "tags": []
          }
        }
      ]
    },
    {
      "cell_type": "code",
      "metadata": {
        "id": "ztfurotuTwgS",
        "colab_type": "code",
        "outputId": "9e184c17-523e-4a35-b41c-bc019e28930f",
        "colab": {
          "base_uri": "https://localhost:8080/",
          "height": 309
        }
      },
      "source": [
        "sns.distplot(df[df['diagnosis'] != 0]['age'])"
      ],
      "execution_count": 0,
      "outputs": [
        {
          "output_type": "execute_result",
          "data": {
            "text/plain": [
              "<matplotlib.axes._subplots.AxesSubplot at 0x7f521fe0cf28>"
            ]
          },
          "metadata": {
            "tags": []
          },
          "execution_count": 31
        },
        {
          "output_type": "display_data",
          "data": {
            "image/png": "[encoded data removed]",
            "text/plain": [
              "<Figure size 432x288 with 1 Axes>"
            ]
          },
          "metadata": {
            "tags": []
          }
        }
      ]
    },
    {
      "cell_type": "code",
      "metadata": {
        "id": "XKqAkAoD2acs",
        "colab_type": "code",
        "outputId": "2e5c12b0-d408-4ef7-b46f-972ad9adb63b",
        "colab": {
          "base_uri": "https://localhost:8080/",
          "height": 309
        }
      },
      "source": [
        "sns.distplot(df.chest_pain, kde = False, color = 'g')"
      ],
      "execution_count": 0,
      "outputs": [
        {
          "output_type": "execute_result",
          "data": {
            "text/plain": [
              "<matplotlib.axes._subplots.AxesSubplot at 0x7f521fd73080>"
            ]
          },
          "metadata": {
            "tags": []
          },
          "execution_count": 32
        },
        {
          "output_type": "display_data",
          "data": {
            "image/png": "[encoded data removed]",
            "text/plain": [
              "<Figure size 432x288 with 1 Axes>"
            ]
          },
          "metadata": {
            "tags": []
          }
        }
      ]
    },
    {
      "cell_type": "code",
      "metadata": {
        "id": "on0KmX0iYjTu",
        "colab_type": "code",
        "colab": {}
      },
      "source": [
        ""
      ],
      "execution_count": 0,
      "outputs": []
    },
    {
      "cell_type": "markdown",
      "metadata": {
        "id": "ojDdN3ollG2z",
        "colab_type": "text"
      },
      "source": [
        "#4. Modeling"
      ]
    },
    {
      "cell_type": "markdown",
      "metadata": {
        "id": "guoGx7ouNjqc",
        "colab_type": "text"
      },
      "source": [
        "## 4.1 Preprocessing"
      ]
    },
    {
      "cell_type": "code",
      "metadata": {
        "id": "_VPEnpPAL4TQ",
        "colab_type": "code",
        "colab": {}
      },
      "source": [
        "# standardized all features\n",
        "\n",
        "from sklearn.preprocessing import StandardScaler\n",
        "\n",
        "sc = StandardScaler()\n",
        "X =  pd.DataFrame(sc.fit_transform(df.drop(['diagnosis'],axis = 1),),\n",
        "        columns=['age', 'sex', 'chest_pain', 'blood_pressure', 'cholesterol', 'blood_sugar', \n",
        "                 'electrocardiography', 'max_heart_rate', 'exercise_induced_angina', \n",
        "                 'ST_depresion','slope', 'flourosopy', 'thal'])"
      ],
      "execution_count": 0,
      "outputs": []
    },
    {
      "cell_type": "code",
      "metadata": {
        "id": "dGhLYdyaNe8D",
        "colab_type": "code",
        "colab": {}
      },
      "source": [
        "y = df.diagnosis"
      ],
      "execution_count": 0,
      "outputs": []
    },
    {
      "cell_type": "code",
      "metadata": {
        "id": "EwIfy06gNrA0",
        "colab_type": "code",
        "outputId": "f373eb0c-49ee-4e06-c9f8-4558e2e96dc8",
        "colab": {
          "base_uri": "https://localhost:8080/",
          "height": 377
        }
      },
      "source": [
        "# dimensionality reduction\n",
        "\n",
        "from yellowbrick.features.pca import PCADecomposition\n",
        "\n",
        "visualizer = PCADecomposition(proj_features=True)\n",
        "visualizer.fit_transform(X, y)\n",
        "visualizer.poof()\n"
      ],
      "execution_count": 0,
      "outputs": [
        {
          "output_type": "display_data",
          "data": {
            "image/png": "[encoded data removed]",
            "text/plain": [
              "<Figure size 576x396 with 1 Axes>"
            ]
          },
          "metadata": {
            "tags": []
          }
        }
      ]
    },
    {
      "cell_type": "code",
      "metadata": {
        "id": "Mr0EuJHRSnjw",
        "colab_type": "code",
        "outputId": "48d5a08d-baef-4d39-e18c-99aa28d013b2",
        "colab": {
          "base_uri": "https://localhost:8080/",
          "height": 394
        }
      },
      "source": [
        "from sklearn.decomposition import PCA\n",
        "\n",
        "#Fitting the PCA algorithm with our Data\n",
        "pca = PCA().fit(X)\n",
        "\n",
        "#Plotting the Cumulative Summation of the Explained Variance\n",
        "plt.figure()\n",
        "plt.plot(np.cumsum(pca.explained_variance_ratio_))\n",
        "plt.xlabel('Number of Components')\n",
        "plt.ylabel('Variance (%)') #for each component\n",
        "plt.title('Explained Variance')"
      ],
      "execution_count": 0,
      "outputs": [
        {
          "output_type": "execute_result",
          "data": {
            "text/plain": [
              "Text(0.5, 1.0, 'Explained Variance')"
            ]
          },
          "metadata": {
            "tags": []
          },
          "execution_count": 19
        },
        {
          "output_type": "display_data",
          "data": {
            "image/png": "[encoded data removed]",
            "text/plain": [
              "<Figure size 576x396 with 1 Axes>"
            ]
          },
          "metadata": {
            "tags": []
          }
        }
      ]
    },
    {
      "cell_type": "markdown",
      "metadata": {
        "id": "SA73BzDfUEji",
        "colab_type": "text"
      },
      "source": [
        "## 4.2 Modeling with 10 Principal Components"
      ]
    },
    {
      "cell_type": "markdown",
      "metadata": {
        "id": "q_S5WqRAwuWV",
        "colab_type": "text"
      },
      "source": [
        "After running models with different number of principal components, we found that using 10 components to train the model leads to the highest accuracy score. "
      ]
    },
    {
      "cell_type": "code",
      "metadata": {
        "id": "ktqFWv9YTby8",
        "colab_type": "code",
        "colab": {}
      },
      "source": [
        "# dimension reduction - retain 10 components\n",
        "pca = PCA(n_components = 10)\n",
        "principal_component = pca.fit_transform(X)\n"
      ],
      "execution_count": 0,
      "outputs": []
    },
    {
      "cell_type": "code",
      "metadata": {
        "id": "1_qYXANcT4LT",
        "colab_type": "code",
        "colab": {}
      },
      "source": [
        "# split data into training and test set\n",
        "\n",
        "from sklearn.model_selection import train_test_split\n",
        "from sklearn import metrics\n",
        "X_train,X_test,y_train,y_test = train_test_split(principal_component,y,test_size=0.2,random_state=7)"
      ],
      "execution_count": 0,
      "outputs": []
    },
    {
      "cell_type": "code",
      "metadata": {
        "id": "Fm2s0eJHL3hO",
        "colab_type": "code",
        "outputId": "067d533a-a1d4-4f6b-c122-d0d74aa9ae22",
        "colab": {
          "base_uri": "https://localhost:8080/",
          "height": 35
        }
      },
      "source": [
        "from sklearn.linear_model import LogisticRegression\n",
        "\n",
        "lr = LogisticRegression(solver='lbfgs', multi_class='ovr')\n",
        "lr.fit(X_train,y_train)\n",
        "prediction_lr=lr.predict(X_test)\n",
        "\n",
        "print('The accuracy of the Logistic Regression is',metrics.accuracy_score(prediction_lr,y_test))"
      ],
      "execution_count": 0,
      "outputs": [
        {
          "output_type": "stream",
          "text": [
            "The accuracy of the Logistic Regression is 0.5737704918032787\n"
          ],
          "name": "stdout"
        }
      ]
    },
    {
      "cell_type": "code",
      "metadata": {
        "id": "pHPlekwBYs_9",
        "colab_type": "code",
        "outputId": "393fd85b-5fa7-4655-b13a-eeb6f6bb4028",
        "colab": {
          "base_uri": "https://localhost:8080/",
          "height": 35
        }
      },
      "source": [
        "from sklearn.ensemble import RandomForestClassifier\n",
        "\n",
        "rfc = RandomForestClassifier(n_estimators=100)\n",
        "rfc.fit(X_train,y_train)\n",
        "prediction_rfc=rfc.predict(X_test)\n",
        "\n",
        "print('The accuracy of the Random Forest is',metrics.accuracy_score(prediction_rfc,y_test))"
      ],
      "execution_count": 0,
      "outputs": [
        {
          "output_type": "stream",
          "text": [
            "The accuracy of the Random Forest is 0.639344262295082\n"
          ],
          "name": "stdout"
        }
      ]
    },
    {
      "cell_type": "code",
      "metadata": {
        "id": "nwhWcuQ6Us7k",
        "colab_type": "code",
        "outputId": "1e8e75a7-242d-46d6-cb4d-09e180d172ee",
        "colab": {
          "base_uri": "https://localhost:8080/",
          "height": 35
        }
      },
      "source": [
        "from sklearn import svm\n",
        "\n",
        "svc=svm.SVC(gamma='scale')\n",
        "svc.fit(X_train,y_train)\n",
        "prediction_svc=svc.predict(X_test)\n",
        "\n",
        "print('The accuracy of the SVC is',metrics.accuracy_score(prediction_svc,y_test))"
      ],
      "execution_count": 0,
      "outputs": [
        {
          "output_type": "stream",
          "text": [
            "The accuracy of the SVC is 0.5409836065573771\n"
          ],
          "name": "stdout"
        }
      ]
    },
    {
      "cell_type": "markdown",
      "metadata": {
        "id": "N8lWm7BJV8tP",
        "colab_type": "text"
      },
      "source": [
        "## 4.3 GridSearchCV"
      ]
    },
    {
      "cell_type": "code",
      "metadata": {
        "id": "UsGM5ZeRV8CO",
        "colab_type": "code",
        "outputId": "fe0cd1eb-64bf-43ea-c05a-82acc692cab1",
        "colab": {
          "base_uri": "https://localhost:8080/",
          "height": 280
        }
      },
      "source": [
        "from sklearn.model_selection import GridSearchCV\n",
        "parameters = {'n_estimators': [100,200, 300, 400],'max_depth' :[2,3,4,5, 6, 7, 8, 9, 10]}\n",
        "RF = RandomForestClassifier()\n",
        "\n",
        "clf_RF = GridSearchCV(RF, parameters, cv=5)\n",
        "clf_RF.fit(X_train,y_train)"
      ],
      "execution_count": 0,
      "outputs": [
        {
          "output_type": "stream",
          "text": [
            "/usr/local/lib/python3.6/dist-packages/sklearn/model_selection/_search.py:841: DeprecationWarning: The default of the `iid` parameter will change from True to False in version 0.22 and will be removed in 0.24. This will change numeric results when test-set sizes are unequal.\n",
            "  DeprecationWarning)\n"
          ],
          "name": "stderr"
        },
        {
          "output_type": "execute_result",
          "data": {
            "text/plain": [
              "GridSearchCV(cv=5, error_score='raise-deprecating',\n",
              "       estimator=RandomForestClassifier(bootstrap=True, class_weight=None, criterion='gini',\n",
              "            max_depth=None, max_features='auto', max_leaf_nodes=None,\n",
              "            min_impurity_decrease=0.0, min_impurity_split=None,\n",
              "            min_samples_leaf=1, min_samples_split=2,\n",
              "            min_weight_fraction_leaf=0.0, n_estimators='warn', n_jobs=None,\n",
              "            oob_score=False, random_state=None, verbose=0,\n",
              "            warm_start=False),\n",
              "       fit_params=None, iid='warn', n_jobs=None,\n",
              "       param_grid={'n_estimators': [100, 200, 300, 400], 'max_depth': [2, 3, 4, 5, 6, 7, 8, 9, 10]},\n",
              "       pre_dispatch='2*n_jobs', refit=True, return_train_score='warn',\n",
              "       scoring=None, verbose=0)"
            ]
          },
          "metadata": {
            "tags": []
          },
          "execution_count": 119
        }
      ]
    },
    {
      "cell_type": "code",
      "metadata": {
        "id": "zCzye9_OYeG1",
        "colab_type": "code",
        "outputId": "fafa687b-5297-480a-fb7a-a683507d39ca",
        "colab": {
          "base_uri": "https://localhost:8080/",
          "height": 35
        }
      },
      "source": [
        "clf_RF.best_params_"
      ],
      "execution_count": 0,
      "outputs": [
        {
          "output_type": "execute_result",
          "data": {
            "text/plain": [
              "{'max_depth': 7, 'n_estimators': 200}"
            ]
          },
          "metadata": {
            "tags": []
          },
          "execution_count": 120
        }
      ]
    },
    {
      "cell_type": "code",
      "metadata": {
        "id": "UE4FFfHBY9Ti",
        "colab_type": "code",
        "outputId": "00eed44f-746e-4232-da7e-7564d8fb7b43",
        "colab": {
          "base_uri": "https://localhost:8080/",
          "height": 35
        }
      },
      "source": [
        "from sklearn.ensemble import RandomForestClassifier\n",
        "RF = RandomForestClassifier(n_estimators=200, max_depth=7)\n",
        "RF.fit(X_train,y_train)\n",
        "prediction_RF=RF.predict(X_test)\n",
        "print('The accuracy of the Random Forest Regression is',metrics.accuracy_score(prediction_RF,y_test))"
      ],
      "execution_count": 0,
      "outputs": [
        {
          "output_type": "stream",
          "text": [
            "The accuracy of the Random Forest Regression is 0.639344262295082\n"
          ],
          "name": "stdout"
        }
      ]
    },
    {
      "cell_type": "code",
      "metadata": {
        "id": "HdyfCQ5AZEYQ",
        "colab_type": "code",
        "outputId": "ee968346-ca72-47d7-f13a-9e0c3c4e3081",
        "colab": {
          "base_uri": "https://localhost:8080/",
          "height": 211
        }
      },
      "source": [
        "from sklearn.model_selection import GridSearchCV\n",
        "parameters = {'C':[0.1, 1, 10,100]}\n",
        "SVC = svm.SVC(kernel='rbf',gamma='scale')\n",
        "\n",
        "clf_SVC = GridSearchCV(SVC, parameters, cv=5)\n",
        "clf_SVC.fit(X_train, y_train)"
      ],
      "execution_count": 0,
      "outputs": [
        {
          "output_type": "stream",
          "text": [
            "/usr/local/lib/python3.6/dist-packages/sklearn/model_selection/_search.py:841: DeprecationWarning: The default of the `iid` parameter will change from True to False in version 0.22 and will be removed in 0.24. This will change numeric results when test-set sizes are unequal.\n",
            "  DeprecationWarning)\n"
          ],
          "name": "stderr"
        },
        {
          "output_type": "execute_result",
          "data": {
            "text/plain": [
              "GridSearchCV(cv=5, error_score='raise-deprecating',\n",
              "       estimator=SVC(C=1.0, cache_size=200, class_weight=None, coef0=0.0,\n",
              "  decision_function_shape='ovr', degree=3, gamma='scale', kernel='rbf',\n",
              "  max_iter=-1, probability=False, random_state=None, shrinking=True,\n",
              "  tol=0.001, verbose=False),\n",
              "       fit_params=None, iid='warn', n_jobs=None,\n",
              "       param_grid={'C': [0.1, 1, 10, 100]}, pre_dispatch='2*n_jobs',\n",
              "       refit=True, return_train_score='warn', scoring=None, verbose=0)"
            ]
          },
          "metadata": {
            "tags": []
          },
          "execution_count": 131
        }
      ]
    },
    {
      "cell_type": "code",
      "metadata": {
        "id": "N9yL917wZTLC",
        "colab_type": "code",
        "outputId": "b9949a6e-ff4a-4cca-c244-65df4bfcfa62",
        "colab": {
          "base_uri": "https://localhost:8080/",
          "height": 35
        }
      },
      "source": [
        "clf_SVC.best_params_"
      ],
      "execution_count": 0,
      "outputs": [
        {
          "output_type": "execute_result",
          "data": {
            "text/plain": [
              "{'C': 1}"
            ]
          },
          "metadata": {
            "tags": []
          },
          "execution_count": 132
        }
      ]
    },
    {
      "cell_type": "code",
      "metadata": {
        "id": "dQVjTuj0ZWBa",
        "colab_type": "code",
        "outputId": "04f7c1e8-2df9-498a-b5ee-eaebe0c0c245",
        "colab": {
          "base_uri": "https://localhost:8080/",
          "height": 35
        }
      },
      "source": [
        "from sklearn import svm\n",
        "from sklearn.model_selection import cross_val_score\n",
        "SVC=svm.SVC(C = 1, kernel='rbf', gamma ='scale')\n",
        "SVC.fit(X_train,y_train)\n",
        "prediction_SVC=SVC.predict(X_test)\n",
        "print('The accuracy of the SVC is',metrics.accuracy_score(prediction_SVC,y_test))"
      ],
      "execution_count": 0,
      "outputs": [
        {
          "output_type": "stream",
          "text": [
            "The accuracy of the SVC is 0.5409836065573771\n"
          ],
          "name": "stdout"
        }
      ]
    },
    {
      "cell_type": "markdown",
      "metadata": {
        "id": "hKWbNPoWlG5n",
        "colab_type": "text"
      },
      "source": [
        "# 5. Evaludation"
      ]
    },
    {
      "cell_type": "markdown",
      "metadata": {
        "id": "KRC-uRz_wgcU",
        "colab_type": "text"
      },
      "source": [
        "Using GridSearchCV tuning hyperparameter of RandomForest Classifier, we are able to improve model accuracy up to 63%. "
      ]
    },
    {
      "cell_type": "markdown",
      "metadata": {
        "id": "8cH6Hbv_ZKN0",
        "colab_type": "text"
      },
      "source": [
        "##5.1 Confusion Matrix"
      ]
    },
    {
      "cell_type": "code",
      "metadata": {
        "id": "9cNr5Fpcbcz9",
        "colab_type": "code",
        "outputId": "dd01e0f2-bb69-4219-9ee1-a2cbd0c6fa1f",
        "colab": {
          "base_uri": "https://localhost:8080/",
          "height": 373
        }
      },
      "source": [
        "from yellowbrick.classifier import ConfusionMatrix\n",
        "cm = ConfusionMatrix(RF)\n",
        "cm.fit(X_train, y_train)\n",
        "cm.score(X_test, y_test)\n",
        "cm.poof()"
      ],
      "execution_count": 0,
      "outputs": [
        {
          "output_type": "display_data",
          "data": {
            "image/png": "[encoded data removed]",
            "text/plain": [
              "<Figure size 576x396 with 1 Axes>"
            ]
          },
          "metadata": {
            "tags": []
          }
        }
      ]
    },
    {
      "cell_type": "markdown",
      "metadata": {
        "id": "XzI4TFXDuv4V",
        "colab_type": "text"
      },
      "source": [
        "From above consuion matrix, we see that among 29 patients who don't have heart disease, only 1 is predicted as having heart disease, the rest 28 are correctly classified as no heart disease. However, among those who do have heart disease, 13 out of 33 patients are predicted as no disease. The error rate is approximately 40%, which is unacceptably high. "
      ]
    },
    {
      "cell_type": "markdown",
      "metadata": {
        "id": "QxIVGzw1ZKRW",
        "colab_type": "text"
      },
      "source": [
        "## 5.2 Precision& Recall"
      ]
    },
    {
      "cell_type": "code",
      "metadata": {
        "id": "DO6602RFbqOo",
        "colab_type": "code",
        "outputId": "7b530d64-f62d-4588-c7f1-fbacf76dbad9",
        "colab": {
          "base_uri": "https://localhost:8080/",
          "height": 456
        }
      },
      "source": [
        "from yellowbrick.classifier import ClassificationReport\n",
        "viz = ClassificationReport(RF)\n",
        "viz.fit(X_train, y_train)\n",
        "viz.score(X_test, y_test)\n",
        "viz.poof()"
      ],
      "execution_count": 0,
      "outputs": [
        {
          "output_type": "stream",
          "text": [
            "/usr/local/lib/python3.6/dist-packages/sklearn/metrics/classification.py:1143: UndefinedMetricWarning: Precision and F-score are ill-defined and being set to 0.0 in labels with no predicted samples.\n",
            "  'precision', 'predicted', average, warn_for)\n"
          ],
          "name": "stderr"
        },
        {
          "output_type": "display_data",
          "data": {
            "image/png": "[encoded data removed]",
            "text/plain": [
              "<Figure size 576x396 with 2 Axes>"
            ]
          },
          "metadata": {
            "tags": []
          }
        }
      ]
    },
    {
      "cell_type": "markdown",
      "metadata": {
        "id": "IVUMgCCWZKUn",
        "colab_type": "text"
      },
      "source": [
        "##5.3 ROC AUC"
      ]
    },
    {
      "cell_type": "code",
      "metadata": {
        "id": "ViGL25uSbvA6",
        "colab_type": "code",
        "outputId": "a0413738-4841-471f-df0a-a15d483f7ecc",
        "colab": {
          "base_uri": "https://localhost:8080/",
          "height": 377
        }
      },
      "source": [
        "from sklearn.linear_model import RidgeClassifier\n",
        "\n",
        "classes = ['0', '1', '2', '3', '4']\n",
        "visualizer = ROCAUC(RidgeClassifier(), classes=classes)\n",
        "\n",
        "visualizer.fit(X_train, y_train)  # Fit the training data to the visualizer\n",
        "visualizer.score(X_test, y_test)  # Evaluate the model on the test data\n",
        "g = visualizer.poof()             # Draw/show/poof the data"
      ],
      "execution_count": 0,
      "outputs": [
        {
          "output_type": "display_data",
          "data": {
            "image/png": "[encoded data removed]",
            "text/plain": [
              "<Figure size 576x396 with 1 Axes>"
            ]
          },
          "metadata": {
            "tags": []
          }
        }
      ]
    },
    {
      "cell_type": "markdown",
      "metadata": {
        "id": "JXbh88PGZa99",
        "colab_type": "text"
      },
      "source": [
        "# 6. AutoML"
      ]
    },
    {
      "cell_type": "code",
      "metadata": {
        "id": "MoD-zHX-kjT9",
        "colab_type": "code",
        "outputId": "b16394b0-0693-4be4-df42-7b89807b3894",
        "colab": {
          "base_uri": "https://localhost:8080/",
          "height": 349
        }
      },
      "source": [
        "# install H2O\n",
        "! pip install h2o"
      ],
      "execution_count": 0,
      "outputs": [
        {
          "output_type": "stream",
          "text": [
            "Collecting h2o\n",
            "\u001b[?25l  Downloading https://files.pythonhosted.org/packages/eb/c8/2b41bfc87f55285445f0b83603f5179d1909200eb45bab47d7f9eecd5c6b/h2o-3.24.0.3.tar.gz (121.8MB)\n",
            "\u001b[K     |████████████████████████████████| 121.8MB 245kB/s \n",
            "\u001b[?25hRequirement already satisfied: requests in /usr/local/lib/python3.6/dist-packages (from h2o) (2.21.0)\n",
            "Requirement already satisfied: tabulate in /usr/local/lib/python3.6/dist-packages (from h2o) (0.8.3)\n",
            "Requirement already satisfied: future in /usr/local/lib/python3.6/dist-packages (from h2o) (0.16.0)\n",
            "Collecting colorama>=0.3.8 (from h2o)\n",
            "  Downloading https://files.pythonhosted.org/packages/4f/a6/728666f39bfff1719fc94c481890b2106837da9318031f71a8424b662e12/colorama-0.4.1-py2.py3-none-any.whl\n",
            "Requirement already satisfied: idna<2.9,>=2.5 in /usr/local/lib/python3.6/dist-packages (from requests->h2o) (2.8)\n",
            "Requirement already satisfied: urllib3<1.25,>=1.21.1 in /usr/local/lib/python3.6/dist-packages (from requests->h2o) (1.24.2)\n",
            "Requirement already satisfied: chardet<3.1.0,>=3.0.2 in /usr/local/lib/python3.6/dist-packages (from requests->h2o) (3.0.4)\n",
            "Requirement already satisfied: certifi>=2017.4.17 in /usr/local/lib/python3.6/dist-packages (from requests->h2o) (2019.3.9)\n",
            "Building wheels for collected packages: h2o\n",
            "  Building wheel for h2o (setup.py) ... \u001b[?25l\u001b[?25hdone\n",
            "  Stored in directory: /root/.cache/pip/wheels/36/73/57/2ea67a8a35ea9114f7d66cc8c5ec46c915698c909321f8a17d\n",
            "Successfully built h2o\n",
            "Installing collected packages: colorama, h2o\n",
            "Successfully installed colorama-0.4.1 h2o-3.24.0.3\n"
          ],
          "name": "stdout"
        }
      ]
    },
    {
      "cell_type": "code",
      "metadata": {
        "id": "P22sHDRwmJz0",
        "colab_type": "code",
        "outputId": "b5899077-11d0-49dd-8cf9-4a13397408a7",
        "colab": {
          "base_uri": "https://localhost:8080/",
          "height": 751
        }
      },
      "source": [
        "import h2o\n",
        "from h2o.automl import H2OAutoML\n",
        "h2o.init()"
      ],
      "execution_count": 0,
      "outputs": [
        {
          "output_type": "stream",
          "text": [
            "Checking whether there is an H2O instance running at http://localhost:54321 ..... not found.\n",
            "Attempting to start a local H2O server...\n",
            "  Java Version: openjdk version \"11.0.2\" 2019-01-15; OpenJDK Runtime Environment (build 11.0.2+9-Ubuntu-3ubuntu118.04.3); OpenJDK 64-Bit Server VM (build 11.0.2+9-Ubuntu-3ubuntu118.04.3, mixed mode, sharing)\n",
            "  Starting server from /usr/local/lib/python3.6/dist-packages/h2o/backend/bin/h2o.jar\n",
            "  Ice root: /tmp/tmpb7sr7z2j\n",
            "  JVM stdout: /tmp/tmpb7sr7z2j/h2o_unknownUser_started_from_python.out\n",
            "  JVM stderr: /tmp/tmpb7sr7z2j/h2o_unknownUser_started_from_python.err\n",
            "  Server is running at http://127.0.0.1:54321\n",
            "Connecting to H2O server at http://127.0.0.1:54321 ... successful.\n"
          ],
          "name": "stdout"
        },
        {
          "output_type": "display_data",
          "data": {
            "text/html": [
              "<div style=\"overflow:auto\"><table style=\"width:50%\"><tr><td>H2O cluster uptime:</td>\n",
              "<td>02 secs</td></tr>\n",
              "<tr><td>H2O cluster timezone:</td>\n",
              "<td>Etc/UTC</td></tr>\n",
              "<tr><td>H2O data parsing timezone:</td>\n",
              "<td>UTC</td></tr>\n",
              "<tr><td>H2O cluster version:</td>\n",
              "<td>3.24.0.3</td></tr>\n",
              "<tr><td>H2O cluster version age:</td>\n",
              "<td>1 day </td></tr>\n",
              "<tr><td>H2O cluster name:</td>\n",
              "<td>H2O_from_python_unknownUser_7wo1gm</td></tr>\n",
              "<tr><td>H2O cluster total nodes:</td>\n",
              "<td>1</td></tr>\n",
              "<tr><td>H2O cluster free memory:</td>\n",
              "<td>3 Gb</td></tr>\n",
              "<tr><td>H2O cluster total cores:</td>\n",
              "<td>2</td></tr>\n",
              "<tr><td>H2O cluster allowed cores:</td>\n",
              "<td>2</td></tr>\n",
              "<tr><td>H2O cluster status:</td>\n",
              "<td>accepting new members, healthy</td></tr>\n",
              "<tr><td>H2O connection url:</td>\n",
              "<td>http://127.0.0.1:54321</td></tr>\n",
              "<tr><td>H2O connection proxy:</td>\n",
              "<td>None</td></tr>\n",
              "<tr><td>H2O internal security:</td>\n",
              "<td>False</td></tr>\n",
              "<tr><td>H2O API Extensions:</td>\n",
              "<td>Amazon S3, XGBoost, Algos, AutoML, Core V3, Core V4</td></tr>\n",
              "<tr><td>Python version:</td>\n",
              "<td>3.6.7 final</td></tr></table></div>"
            ],
            "text/plain": [
              "--------------------------  ---------------------------------------------------\n",
              "H2O cluster uptime:         02 secs\n",
              "H2O cluster timezone:       Etc/UTC\n",
              "H2O data parsing timezone:  UTC\n",
              "H2O cluster version:        3.24.0.3\n",
              "H2O cluster version age:    1 day\n",
              "H2O cluster name:           H2O_from_python_unknownUser_7wo1gm\n",
              "H2O cluster total nodes:    1\n",
              "H2O cluster free memory:    3 Gb\n",
              "H2O cluster total cores:    2\n",
              "H2O cluster allowed cores:  2\n",
              "H2O cluster status:         accepting new members, healthy\n",
              "H2O connection url:         http://127.0.0.1:54321\n",
              "H2O connection proxy:\n",
              "H2O internal security:      False\n",
              "H2O API Extensions:         Amazon S3, XGBoost, Algos, AutoML, Core V3, Core V4\n",
              "Python version:             3.6.7 final\n",
              "--------------------------  ---------------------------------------------------"
            ]
          },
          "metadata": {
            "tags": []
          }
        }
      ]
    },
    {
      "cell_type": "code",
      "metadata": {
        "id": "kJBwDDmjcjmf",
        "colab_type": "code",
        "outputId": "0a014e30-74c1-43f3-c694-7e3536e5c9be",
        "colab": {
          "base_uri": "https://localhost:8080/",
          "height": 124
        }
      },
      "source": [
        "from google.colab import drive\n",
        "drive.mount('/content/gdrive', force_remount=True)"
      ],
      "execution_count": 0,
      "outputs": [
        {
          "output_type": "stream",
          "text": [
            "Go to this URL in a browser: https://accounts.google.com/o/oauth2/auth?client_id=947318989803-6bn6qk8qdgf4n4g3pfee6491hc0brc4i.apps.googleusercontent.com&redirect_uri=urn%3Aietf%3Awg%3Aoauth%3A2.0%3Aoob&scope=email%20https%3A%2F%2Fwww.googleapis.com%2Fauth%2Fdocs.test%20https%3A%2F%2Fwww.googleapis.com%2Fauth%2Fdrive%20https%3A%2F%2Fwww.googleapis.com%2Fauth%2Fdrive.photos.readonly%20https%3A%2F%2Fwww.googleapis.com%2Fauth%2Fpeopleapi.readonly&response_type=code\n",
            "\n",
            "Enter your authorization code:\n",
            "··········\n",
            "Mounted at /content/gdrive\n"
          ],
          "name": "stdout"
        }
      ]
    },
    {
      "cell_type": "code",
      "metadata": {
        "id": "yoix6rSvcrFE",
        "colab_type": "code",
        "outputId": "819efe0f-bc56-4052-e45a-6d2f39ff3cbb",
        "colab": {
          "base_uri": "https://localhost:8080/",
          "height": 243
        }
      },
      "source": [
        "import os;os.listdir(\"/content/gdrive/My Drive/ApplicationDomainHW\")"
      ],
      "execution_count": 0,
      "outputs": [
        {
          "output_type": "execute_result",
          "data": {
            "text/plain": [
              "['paper1.gdoc',\n",
              " 'paper2.gdoc',\n",
              " 'paper3.gdoc',\n",
              " 'paper4.gdoc',\n",
              " 'Machine Learning Canvas Template.docx',\n",
              " 'short paper 5.gdoc',\n",
              " 'short paper 6.gdoc',\n",
              " 'Individual_project.gdoc',\n",
              " 'processed.cleveland.data',\n",
              " 'example_feature_types.ipynb',\n",
              " 'paper_8.gdoc',\n",
              " 'paper_7.gdoc',\n",
              " 'heart_disease_prediction.ipynb']"
            ]
          },
          "metadata": {
            "tags": []
          },
          "execution_count": 142
        }
      ]
    },
    {
      "cell_type": "code",
      "metadata": {
        "id": "cYDnU886Zdq1",
        "colab_type": "code",
        "outputId": "217d7e23-3613-428b-afaa-9923f3a17d1d",
        "colab": {
          "base_uri": "https://localhost:8080/",
          "height": 35
        }
      },
      "source": [
        "df_automl = h2o.import_file(\"/content/gdrive/My Drive/ApplicationDomainHW/processed.cleveland.data\", destination_frame=\"df_automl\")\n"
      ],
      "execution_count": 0,
      "outputs": [
        {
          "output_type": "stream",
          "text": [
            "Parse progress: |█████████████████████████████████████████████████████████| 100%\n"
          ],
          "name": "stdout"
        }
      ]
    },
    {
      "cell_type": "code",
      "metadata": {
        "id": "i37c3bE6mPNz",
        "colab_type": "code",
        "outputId": "122d7690-26b6-441f-d723-35d948185840",
        "colab": {
          "base_uri": "https://localhost:8080/",
          "height": 35
        }
      },
      "source": [
        "train, test = df_automl.split_frame(ratios=[0.8], seed=7)\n",
        "train[df_automl.columns[-1]] = train[df_automl.columns[-1]].asfactor()\n",
        "test[df_automl.columns[-1]] = test[df_automl.columns[-1]].asfactor()\n",
        "print(\"Number of rows in train and test set : \", train.shape[0], test.shape[0])"
      ],
      "execution_count": 0,
      "outputs": [
        {
          "output_type": "stream",
          "text": [
            "Number of rows in train and test set :  244 59\n"
          ],
          "name": "stdout"
        }
      ]
    },
    {
      "cell_type": "code",
      "metadata": {
        "id": "FXoJjUfAF8C1",
        "colab_type": "code",
        "colab": {}
      },
      "source": [
        "x = df_automl.columns[:-1]\n",
        "y = df_automl.columns[-1]"
      ],
      "execution_count": 0,
      "outputs": []
    },
    {
      "cell_type": "code",
      "metadata": {
        "id": "rZXmJUYkGHks",
        "colab_type": "code",
        "outputId": "8717a0c0-dd04-4998-dbcc-6e05ae57e883",
        "colab": {
          "base_uri": "https://localhost:8080/",
          "height": 512
        }
      },
      "source": [
        "aml = H2OAutoML(max_models=20, seed=1)\n",
        "aml.train(x=x, y=y, training_frame = train)\n",
        "\n",
        "# View the AutoML Leaderboard\n",
        "lb = aml.leaderboard\n",
        "lb.head(rows=lb.nrows)  # Print all rows instead of default (10 rows)"
      ],
      "execution_count": 0,
      "outputs": [
        {
          "output_type": "stream",
          "text": [
            "AutoML progress: |████████████████████████████████████████████████████████| 100%\n"
          ],
          "name": "stdout"
        },
        {
          "output_type": "display_data",
          "data": {
            "text/html": [
              "<table>\n",
              "<thead>\n",
              "<tr><th>model_id                                           </th><th style=\"text-align: right;\">  mean_per_class_error</th><th style=\"text-align: right;\">  logloss</th><th style=\"text-align: right;\">    rmse</th><th style=\"text-align: right;\">     mse</th></tr>\n",
              "</thead>\n",
              "<tbody>\n",
              "<tr><td>DeepLearning_grid_1_AutoML_20190508_220623_model_2 </td><td style=\"text-align: right;\">              0.608626</td><td style=\"text-align: right;\"> 1.57057 </td><td style=\"text-align: right;\">0.587232</td><td style=\"text-align: right;\">0.344841</td></tr>\n",
              "<tr><td>DeepLearning_grid_1_AutoML_20190508_220623_model_3 </td><td style=\"text-align: right;\">              0.63338 </td><td style=\"text-align: right;\"> 1.80922 </td><td style=\"text-align: right;\">0.573168</td><td style=\"text-align: right;\">0.328522</td></tr>\n",
              "<tr><td>GBM_grid_1_AutoML_20190508_220623_model_1          </td><td style=\"text-align: right;\">              0.633645</td><td style=\"text-align: right;\"> 1.02899 </td><td style=\"text-align: right;\">0.587358</td><td style=\"text-align: right;\">0.344989</td></tr>\n",
              "<tr><td>XGBoost_grid_1_AutoML_20190508_220623_model_1      </td><td style=\"text-align: right;\">              0.64854 </td><td style=\"text-align: right;\"> 1.06324 </td><td style=\"text-align: right;\">0.6266  </td><td style=\"text-align: right;\">0.392627</td></tr>\n",
              "<tr><td>XGBoost_grid_1_AutoML_20190508_220623_model_4      </td><td style=\"text-align: right;\">              0.658532</td><td style=\"text-align: right;\"> 0.9628  </td><td style=\"text-align: right;\">0.585509</td><td style=\"text-align: right;\">0.34282 </td></tr>\n",
              "<tr><td>GBM_4_AutoML_20190508_220623                       </td><td style=\"text-align: right;\">              0.660656</td><td style=\"text-align: right;\"> 1.00192 </td><td style=\"text-align: right;\">0.575877</td><td style=\"text-align: right;\">0.331635</td></tr>\n",
              "<tr><td>DeepLearning_grid_1_AutoML_20190508_220623_model_1 </td><td style=\"text-align: right;\">              0.661194</td><td style=\"text-align: right;\"> 2.22214 </td><td style=\"text-align: right;\">0.594658</td><td style=\"text-align: right;\">0.353618</td></tr>\n",
              "<tr><td>XGBoost_3_AutoML_20190508_220623                   </td><td style=\"text-align: right;\">              0.665435</td><td style=\"text-align: right;\"> 1.05137 </td><td style=\"text-align: right;\">0.624942</td><td style=\"text-align: right;\">0.390553</td></tr>\n",
              "<tr><td>GBM_2_AutoML_20190508_220623                       </td><td style=\"text-align: right;\">              0.66902 </td><td style=\"text-align: right;\"> 1.00861 </td><td style=\"text-align: right;\">0.576906</td><td style=\"text-align: right;\">0.332821</td></tr>\n",
              "<tr><td>XGBoost_grid_1_AutoML_20190508_220623_model_2      </td><td style=\"text-align: right;\">              0.669363</td><td style=\"text-align: right;\"> 1.04909 </td><td style=\"text-align: right;\">0.600533</td><td style=\"text-align: right;\">0.36064 </td></tr>\n",
              "<tr><td>DeepLearning_1_AutoML_20190508_220623              </td><td style=\"text-align: right;\">              0.677638</td><td style=\"text-align: right;\"> 1.31192 </td><td style=\"text-align: right;\">0.598863</td><td style=\"text-align: right;\">0.358637</td></tr>\n",
              "<tr><td>GBM_3_AutoML_20190508_220623                       </td><td style=\"text-align: right;\">              0.677879</td><td style=\"text-align: right;\"> 1.00201 </td><td style=\"text-align: right;\">0.575476</td><td style=\"text-align: right;\">0.331172</td></tr>\n",
              "<tr><td>XGBoost_1_AutoML_20190508_220623                   </td><td style=\"text-align: right;\">              0.690738</td><td style=\"text-align: right;\"> 0.930266</td><td style=\"text-align: right;\">0.573585</td><td style=\"text-align: right;\">0.329   </td></tr>\n",
              "<tr><td>GBM_grid_1_AutoML_20190508_220623_model_2          </td><td style=\"text-align: right;\">              0.691646</td><td style=\"text-align: right;\"> 2.3365  </td><td style=\"text-align: right;\">0.613176</td><td style=\"text-align: right;\">0.375985</td></tr>\n",
              "<tr><td>XRT_1_AutoML_20190508_220623                       </td><td style=\"text-align: right;\">              0.698275</td><td style=\"text-align: right;\"> 3.78278 </td><td style=\"text-align: right;\">0.599567</td><td style=\"text-align: right;\">0.35948 </td></tr>\n",
              "<tr><td>GBM_1_AutoML_20190508_220623                       </td><td style=\"text-align: right;\">              0.698533</td><td style=\"text-align: right;\"> 1.12118 </td><td style=\"text-align: right;\">0.58765 </td><td style=\"text-align: right;\">0.345332</td></tr>\n",
              "<tr><td>GLM_grid_1_AutoML_20190508_220623_model_1          </td><td style=\"text-align: right;\">              0.70396 </td><td style=\"text-align: right;\"> 0.928587</td><td style=\"text-align: right;\">0.572534</td><td style=\"text-align: right;\">0.327796</td></tr>\n",
              "<tr><td>XGBoost_grid_1_AutoML_20190508_220623_model_3      </td><td style=\"text-align: right;\">              0.708137</td><td style=\"text-align: right;\"> 1.03969 </td><td style=\"text-align: right;\">0.619386</td><td style=\"text-align: right;\">0.383639</td></tr>\n",
              "<tr><td>StackedEnsemble_AllModels_AutoML_20190508_220623   </td><td style=\"text-align: right;\">              0.717299</td><td style=\"text-align: right;\"> 0.932643</td><td style=\"text-align: right;\">0.571511</td><td style=\"text-align: right;\">0.326625</td></tr>\n",
              "<tr><td>DRF_1_AutoML_20190508_220623                       </td><td style=\"text-align: right;\">              0.718364</td><td style=\"text-align: right;\"> 4.41808 </td><td style=\"text-align: right;\">0.598927</td><td style=\"text-align: right;\">0.358713</td></tr>\n",
              "<tr><td>StackedEnsemble_BestOfFamily_AutoML_20190508_220623</td><td style=\"text-align: right;\">              0.722299</td><td style=\"text-align: right;\"> 0.968619</td><td style=\"text-align: right;\">0.582251</td><td style=\"text-align: right;\">0.339016</td></tr>\n",
              "<tr><td>XGBoost_2_AutoML_20190508_220623                   </td><td style=\"text-align: right;\">              0.759706</td><td style=\"text-align: right;\"> 1.09379 </td><td style=\"text-align: right;\">0.639663</td><td style=\"text-align: right;\">0.409169</td></tr>\n",
              "</tbody>\n",
              "</table>"
            ]
          },
          "metadata": {
            "tags": []
          }
        },
        {
          "output_type": "execute_result",
          "data": {
            "text/plain": [
              ""
            ]
          },
          "metadata": {
            "tags": []
          },
          "execution_count": 150
        }
      ]
    },
    {
      "cell_type": "code",
      "metadata": {
        "id": "tJjD4ruxoeHm",
        "colab_type": "code",
        "outputId": "c6dba9c0-689f-4bea-aa4d-316db00af690",
        "colab": {
          "base_uri": "https://localhost:8080/",
          "height": 1975
        }
      },
      "source": [
        "# The leader model is stored here\n",
        "aml.leader"
      ],
      "execution_count": 0,
      "outputs": [
        {
          "output_type": "stream",
          "text": [
            "Model Details\n",
            "=============\n",
            "H2ODeepLearningEstimator :  Deep Learning\n",
            "Model Key:  DeepLearning_grid_1_AutoML_20190508_220623_model_2\n",
            "\n",
            "\n",
            "ModelMetricsMultinomial: deeplearning\n",
            "** Reported on train data. **\n",
            "\n",
            "MSE: 0.013563512626577795\n",
            "RMSE: 0.11646249450607606\n",
            "LogLoss: 0.05314823990531221\n",
            "Mean Per-Class Error: 0.017407407407407406\n",
            "Confusion Matrix: Row labels: Actual class; Column labels: Predicted class\n",
            "\n"
          ],
          "name": "stdout"
        },
        {
          "output_type": "display_data",
          "data": {
            "text/html": [
              "<div style=\"overflow:auto\"><table style=\"width:50%\"><tr><td><b>0</b></td>\n",
              "<td><b>1</b></td>\n",
              "<td><b>2</b></td>\n",
              "<td><b>3</b></td>\n",
              "<td><b>4</b></td>\n",
              "<td><b>Error</b></td>\n",
              "<td><b>Rate</b></td></tr>\n",
              "<tr><td>137.0</td>\n",
              "<td>0.0</td>\n",
              "<td>0.0</td>\n",
              "<td>0.0</td>\n",
              "<td>0.0</td>\n",
              "<td>0.0</td>\n",
              "<td>0 / 137</td></tr>\n",
              "<tr><td>1.0</td>\n",
              "<td>38.0</td>\n",
              "<td>0.0</td>\n",
              "<td>0.0</td>\n",
              "<td>1.0</td>\n",
              "<td>0.05</td>\n",
              "<td>2 / 40</td></tr>\n",
              "<tr><td>0.0</td>\n",
              "<td>0.0</td>\n",
              "<td>31.0</td>\n",
              "<td>0.0</td>\n",
              "<td>0.0</td>\n",
              "<td>0.0</td>\n",
              "<td>0 / 31</td></tr>\n",
              "<tr><td>0.0</td>\n",
              "<td>1.0</td>\n",
              "<td>0.0</td>\n",
              "<td>26.0</td>\n",
              "<td>0.0</td>\n",
              "<td>0.0370370</td>\n",
              "<td>1 / 27</td></tr>\n",
              "<tr><td>0.0</td>\n",
              "<td>0.0</td>\n",
              "<td>0.0</td>\n",
              "<td>0.0</td>\n",
              "<td>9.0</td>\n",
              "<td>0.0</td>\n",
              "<td>0 / 9</td></tr>\n",
              "<tr><td>138.0</td>\n",
              "<td>39.0</td>\n",
              "<td>31.0</td>\n",
              "<td>26.0</td>\n",
              "<td>10.0</td>\n",
              "<td>0.0122951</td>\n",
              "<td>3 / 244</td></tr></table></div>"
            ],
            "text/plain": [
              "0    1    2    3    4    Error      Rate\n",
              "---  ---  ---  ---  ---  ---------  -------\n",
              "137  0    0    0    0    0          0 / 137\n",
              "1    38   0    0    1    0.05       2 / 40\n",
              "0    0    31   0    0    0          0 / 31\n",
              "0    1    0    26   0    0.037037   1 / 27\n",
              "0    0    0    0    9    0          0 / 9\n",
              "138  39   31   26   10   0.0122951  3 / 244"
            ]
          },
          "metadata": {
            "tags": []
          }
        },
        {
          "output_type": "stream",
          "text": [
            "Top-5 Hit Ratios: \n"
          ],
          "name": "stdout"
        },
        {
          "output_type": "display_data",
          "data": {
            "text/html": [
              "<div style=\"overflow:auto\"><table style=\"width:50%\"><tr><td><b>k</b></td>\n",
              "<td><b>hit_ratio</b></td></tr>\n",
              "<tr><td>1</td>\n",
              "<td>0.9877049</td></tr>\n",
              "<tr><td>2</td>\n",
              "<td>1.0</td></tr>\n",
              "<tr><td>3</td>\n",
              "<td>1.0</td></tr>\n",
              "<tr><td>4</td>\n",
              "<td>1.0</td></tr>\n",
              "<tr><td>5</td>\n",
              "<td>1.0</td></tr></table></div>"
            ],
            "text/plain": [
              "k    hit_ratio\n",
              "---  -----------\n",
              "1    0.987705\n",
              "2    1\n",
              "3    1\n",
              "4    1\n",
              "5    1"
            ]
          },
          "metadata": {
            "tags": []
          }
        },
        {
          "output_type": "stream",
          "text": [
            "\n",
            "ModelMetricsMultinomial: deeplearning\n",
            "** Reported on cross-validation data. **\n",
            "\n",
            "MSE: 0.34484108207316505\n",
            "RMSE: 0.5872317107183204\n",
            "LogLoss: 1.570572739658663\n",
            "Mean Per-Class Error: 0.6086256529663641\n",
            "Confusion Matrix: Row labels: Actual class; Column labels: Predicted class\n",
            "\n"
          ],
          "name": "stdout"
        },
        {
          "output_type": "display_data",
          "data": {
            "text/html": [
              "<div style=\"overflow:auto\"><table style=\"width:50%\"><tr><td><b>0</b></td>\n",
              "<td><b>1</b></td>\n",
              "<td><b>2</b></td>\n",
              "<td><b>3</b></td>\n",
              "<td><b>4</b></td>\n",
              "<td><b>Error</b></td>\n",
              "<td><b>Rate</b></td></tr>\n",
              "<tr><td>124.0</td>\n",
              "<td>7.0</td>\n",
              "<td>3.0</td>\n",
              "<td>3.0</td>\n",
              "<td>0.0</td>\n",
              "<td>0.0948905</td>\n",
              "<td>13 / 137</td></tr>\n",
              "<tr><td>19.0</td>\n",
              "<td>9.0</td>\n",
              "<td>5.0</td>\n",
              "<td>6.0</td>\n",
              "<td>1.0</td>\n",
              "<td>0.775</td>\n",
              "<td>31 / 40</td></tr>\n",
              "<tr><td>4.0</td>\n",
              "<td>4.0</td>\n",
              "<td>13.0</td>\n",
              "<td>8.0</td>\n",
              "<td>2.0</td>\n",
              "<td>0.5806452</td>\n",
              "<td>18 / 31</td></tr>\n",
              "<tr><td>5.0</td>\n",
              "<td>9.0</td>\n",
              "<td>7.0</td>\n",
              "<td>5.0</td>\n",
              "<td>1.0</td>\n",
              "<td>0.8148148</td>\n",
              "<td>22 / 27</td></tr>\n",
              "<tr><td>0.0</td>\n",
              "<td>2.0</td>\n",
              "<td>3.0</td>\n",
              "<td>2.0</td>\n",
              "<td>2.0</td>\n",
              "<td>0.7777778</td>\n",
              "<td>7 / 9</td></tr>\n",
              "<tr><td>152.0</td>\n",
              "<td>31.0</td>\n",
              "<td>31.0</td>\n",
              "<td>24.0</td>\n",
              "<td>6.0</td>\n",
              "<td>0.3729508</td>\n",
              "<td>91 / 244</td></tr></table></div>"
            ],
            "text/plain": [
              "0    1    2    3    4    Error      Rate\n",
              "---  ---  ---  ---  ---  ---------  --------\n",
              "124  7    3    3    0    0.0948905  13 / 137\n",
              "19   9    5    6    1    0.775      31 / 40\n",
              "4    4    13   8    2    0.580645   18 / 31\n",
              "5    9    7    5    1    0.814815   22 / 27\n",
              "0    2    3    2    2    0.777778   7 / 9\n",
              "152  31   31   24   6    0.372951   91 / 244"
            ]
          },
          "metadata": {
            "tags": []
          }
        },
        {
          "output_type": "stream",
          "text": [
            "Top-5 Hit Ratios: \n"
          ],
          "name": "stdout"
        },
        {
          "output_type": "display_data",
          "data": {
            "text/html": [
              "<div style=\"overflow:auto\"><table style=\"width:50%\"><tr><td><b>k</b></td>\n",
              "<td><b>hit_ratio</b></td></tr>\n",
              "<tr><td>1</td>\n",
              "<td>0.6270492</td></tr>\n",
              "<tr><td>2</td>\n",
              "<td>0.8073771</td></tr>\n",
              "<tr><td>3</td>\n",
              "<td>0.8852459</td></tr>\n",
              "<tr><td>4</td>\n",
              "<td>0.9508197</td></tr>\n",
              "<tr><td>5</td>\n",
              "<td>1.0</td></tr></table></div>"
            ],
            "text/plain": [
              "k    hit_ratio\n",
              "---  -----------\n",
              "1    0.627049\n",
              "2    0.807377\n",
              "3    0.885246\n",
              "4    0.95082\n",
              "5    1"
            ]
          },
          "metadata": {
            "tags": []
          }
        },
        {
          "output_type": "stream",
          "text": [
            "Cross-Validation Metrics Summary: \n"
          ],
          "name": "stdout"
        },
        {
          "output_type": "display_data",
          "data": {
            "text/html": [
              "<div style=\"overflow:auto\"><table style=\"width:50%\"><tr><td><b></b></td>\n",
              "<td><b>mean</b></td>\n",
              "<td><b>sd</b></td>\n",
              "<td><b>cv_1_valid</b></td>\n",
              "<td><b>cv_2_valid</b></td>\n",
              "<td><b>cv_3_valid</b></td>\n",
              "<td><b>cv_4_valid</b></td>\n",
              "<td><b>cv_5_valid</b></td></tr>\n",
              "<tr><td>accuracy</td>\n",
              "<td>0.6269558</td>\n",
              "<td>0.0514507</td>\n",
              "<td>0.7551020</td>\n",
              "<td>0.5510204</td>\n",
              "<td>0.5714286</td>\n",
              "<td>0.6530612</td>\n",
              "<td>0.6041667</td></tr>\n",
              "<tr><td>err</td>\n",
              "<td>0.3730442</td>\n",
              "<td>0.0514507</td>\n",
              "<td>0.2448980</td>\n",
              "<td>0.4489796</td>\n",
              "<td>0.4285714</td>\n",
              "<td>0.3469388</td>\n",
              "<td>0.3958333</td></tr>\n",
              "<tr><td>err_count</td>\n",
              "<td>18.2</td>\n",
              "<td>2.505993</td>\n",
              "<td>12.0</td>\n",
              "<td>22.0</td>\n",
              "<td>21.0</td>\n",
              "<td>17.0</td>\n",
              "<td>19.0</td></tr>\n",
              "<tr><td>logloss</td>\n",
              "<td>1.5728849</td>\n",
              "<td>0.3159097</td>\n",
              "<td>0.8909655</td>\n",
              "<td>1.2393944</td>\n",
              "<td>1.8272429</td>\n",
              "<td>1.7697524</td>\n",
              "<td>2.1370697</td></tr>\n",
              "<tr><td>max_per_class_error</td>\n",
              "<td>1.0</td>\n",
              "<td>0.0</td>\n",
              "<td>1.0</td>\n",
              "<td>1.0</td>\n",
              "<td>1.0</td>\n",
              "<td>1.0</td>\n",
              "<td>1.0</td></tr>\n",
              "<tr><td>mean_per_class_accuracy</td>\n",
              "<td>0.3936244</td>\n",
              "<td>0.0234207</td>\n",
              "<td>0.4219048</td>\n",
              "<td>0.4318841</td>\n",
              "<td>0.341</td>\n",
              "<td>0.3733333</td>\n",
              "<td>0.4</td></tr>\n",
              "<tr><td>mean_per_class_error</td>\n",
              "<td>0.6063756</td>\n",
              "<td>0.0234207</td>\n",
              "<td>0.5780953</td>\n",
              "<td>0.5681160</td>\n",
              "<td>0.659</td>\n",
              "<td>0.6266667</td>\n",
              "<td>0.6</td></tr>\n",
              "<tr><td>mse</td>\n",
              "<td>0.3450259</td>\n",
              "<td>0.0414661</td>\n",
              "<td>0.2382040</td>\n",
              "<td>0.4009877</td>\n",
              "<td>0.3652473</td>\n",
              "<td>0.3305673</td>\n",
              "<td>0.3901231</td></tr>\n",
              "<tr><td>r2</td>\n",
              "<td>0.7479172</td>\n",
              "<td>0.0334431</td>\n",
              "<td>0.7838519</td>\n",
              "<td>0.7640266</td>\n",
              "<td>0.8026645</td>\n",
              "<td>0.716133</td>\n",
              "<td>0.6729099</td></tr>\n",
              "<tr><td>rmse</td>\n",
              "<td>0.5850405</td>\n",
              "<td>0.0371046</td>\n",
              "<td>0.4880615</td>\n",
              "<td>0.6332359</td>\n",
              "<td>0.6043569</td>\n",
              "<td>0.5749499</td>\n",
              "<td>0.6245984</td></tr></table></div>"
            ],
            "text/plain": [
              "                         mean      sd         cv_1_valid    cv_2_valid    cv_3_valid    cv_4_valid    cv_5_valid\n",
              "-----------------------  --------  ---------  ------------  ------------  ------------  ------------  ------------\n",
              "accuracy                 0.626956  0.0514507  0.755102      0.55102       0.571429      0.653061      0.604167\n",
              "err                      0.373044  0.0514507  0.244898      0.44898       0.428571      0.346939      0.395833\n",
              "err_count                18.2      2.50599    12            22            21            17            19\n",
              "logloss                  1.57288   0.31591    0.890965      1.23939       1.82724       1.76975       2.13707\n",
              "max_per_class_error      1         0          1             1             1             1             1\n",
              "mean_per_class_accuracy  0.393624  0.0234207  0.421905      0.431884      0.341         0.373333      0.4\n",
              "mean_per_class_error     0.606376  0.0234207  0.578095      0.568116      0.659         0.626667      0.6\n",
              "mse                      0.345026  0.0414661  0.238204      0.400988      0.365247      0.330567      0.390123\n",
              "r2                       0.747917  0.0334431  0.783852      0.764027      0.802665      0.716133      0.67291\n",
              "rmse                     0.58504   0.0371046  0.488061      0.633236      0.604357      0.57495       0.624598"
            ]
          },
          "metadata": {
            "tags": []
          }
        },
        {
          "output_type": "stream",
          "text": [
            "Scoring History: \n"
          ],
          "name": "stdout"
        },
        {
          "output_type": "display_data",
          "data": {
            "text/html": [
              "<div style=\"overflow:auto\"><table style=\"width:50%\"><tr><td><b></b></td>\n",
              "<td><b>timestamp</b></td>\n",
              "<td><b>duration</b></td>\n",
              "<td><b>training_speed</b></td>\n",
              "<td><b>epochs</b></td>\n",
              "<td><b>iterations</b></td>\n",
              "<td><b>samples</b></td>\n",
              "<td><b>training_rmse</b></td>\n",
              "<td><b>training_logloss</b></td>\n",
              "<td><b>training_r2</b></td>\n",
              "<td><b>training_classification_error</b></td></tr>\n",
              "<tr><td></td>\n",
              "<td>2019-05-08 22:09:39</td>\n",
              "<td> 0.000 sec</td>\n",
              "<td>None</td>\n",
              "<td>0.0</td>\n",
              "<td>0</td>\n",
              "<td>0.0</td>\n",
              "<td>nan</td>\n",
              "<td>nan</td>\n",
              "<td>nan</td>\n",
              "<td>nan</td></tr>\n",
              "<tr><td></td>\n",
              "<td>2019-05-08 22:09:39</td>\n",
              "<td> 1 min 19.102 sec</td>\n",
              "<td>5062 obs/sec</td>\n",
              "<td>10.0</td>\n",
              "<td>1</td>\n",
              "<td>2440.0</td>\n",
              "<td>0.5206821</td>\n",
              "<td>0.8164772</td>\n",
              "<td>0.8133645</td>\n",
              "<td>0.3237705</td></tr>\n",
              "<tr><td></td>\n",
              "<td>2019-05-08 22:09:45</td>\n",
              "<td> 1 min 24.309 sec</td>\n",
              "<td>8606 obs/sec</td>\n",
              "<td>200.0</td>\n",
              "<td>20</td>\n",
              "<td>48800.0</td>\n",
              "<td>0.2840597</td>\n",
              "<td>0.2379317</td>\n",
              "<td>0.9444520</td>\n",
              "<td>0.1024590</td></tr>\n",
              "<tr><td></td>\n",
              "<td>2019-05-08 22:09:50</td>\n",
              "<td> 1 min 29.494 sec</td>\n",
              "<td>9458 obs/sec</td>\n",
              "<td>420.0</td>\n",
              "<td>42</td>\n",
              "<td>102480.0</td>\n",
              "<td>0.1660940</td>\n",
              "<td>0.0983223</td>\n",
              "<td>0.9810086</td>\n",
              "<td>0.0245902</td></tr>\n",
              "<tr><td></td>\n",
              "<td>2019-05-08 22:09:55</td>\n",
              "<td> 1 min 34.700 sec</td>\n",
              "<td>9899 obs/sec</td>\n",
              "<td>650.0</td>\n",
              "<td>65</td>\n",
              "<td>158600.0</td>\n",
              "<td>0.1257733</td>\n",
              "<td>0.0612804</td>\n",
              "<td>0.9891101</td>\n",
              "<td>0.0122951</td></tr>\n",
              "<tr><td></td>\n",
              "<td>2019-05-08 22:09:57</td>\n",
              "<td> 1 min 36.877 sec</td>\n",
              "<td>10066 obs/sec</td>\n",
              "<td>750.0</td>\n",
              "<td>75</td>\n",
              "<td>183000.0</td>\n",
              "<td>0.1164625</td>\n",
              "<td>0.0531482</td>\n",
              "<td>0.9906627</td>\n",
              "<td>0.0122951</td></tr></table></div>"
            ],
            "text/plain": [
              "    timestamp            duration          training_speed    epochs    iterations    samples    training_rmse    training_logloss    training_r2    training_classification_error\n",
              "--  -------------------  ----------------  ----------------  --------  ------------  ---------  ---------------  ------------------  -------------  -------------------------------\n",
              "    2019-05-08 22:09:39  0.000 sec                           0         0             0          nan              nan                 nan            nan\n",
              "    2019-05-08 22:09:39  1 min 19.102 sec  5062 obs/sec      10        1             2440       0.520682         0.816477            0.813364       0.32377\n",
              "    2019-05-08 22:09:45  1 min 24.309 sec  8606 obs/sec      200       20            48800      0.28406          0.237932            0.944452       0.102459\n",
              "    2019-05-08 22:09:50  1 min 29.494 sec  9458 obs/sec      420       42            102480     0.166094         0.0983223           0.981009       0.0245902\n",
              "    2019-05-08 22:09:55  1 min 34.700 sec  9899 obs/sec      650       65            158600     0.125773         0.0612804           0.98911        0.0122951\n",
              "    2019-05-08 22:09:57  1 min 36.877 sec  10066 obs/sec     750       75            183000     0.116462         0.0531482           0.990663       0.0122951"
            ]
          },
          "metadata": {
            "tags": []
          }
        },
        {
          "output_type": "stream",
          "text": [
            "Variable Importances: \n"
          ],
          "name": "stdout"
        },
        {
          "output_type": "display_data",
          "data": {
            "text/html": [
              "<div style=\"overflow:auto\"><table style=\"width:50%\"><tr><td><b>variable</b></td>\n",
              "<td><b>relative_importance</b></td>\n",
              "<td><b>scaled_importance</b></td>\n",
              "<td><b>percentage</b></td></tr>\n",
              "<tr><td>C1</td>\n",
              "<td>1.0</td>\n",
              "<td>1.0</td>\n",
              "<td>0.0937466</td></tr>\n",
              "<tr><td>C5</td>\n",
              "<td>0.9764981</td>\n",
              "<td>0.9764981</td>\n",
              "<td>0.0915434</td></tr>\n",
              "<tr><td>C12</td>\n",
              "<td>0.8982353</td>\n",
              "<td>0.8982353</td>\n",
              "<td>0.0842065</td></tr>\n",
              "<tr><td>C8</td>\n",
              "<td>0.8957073</td>\n",
              "<td>0.8957073</td>\n",
              "<td>0.0839695</td></tr>\n",
              "<tr><td>C11</td>\n",
              "<td>0.8560115</td>\n",
              "<td>0.8560115</td>\n",
              "<td>0.0802482</td></tr>\n",
              "<tr><td>C4</td>\n",
              "<td>0.8497860</td>\n",
              "<td>0.8497860</td>\n",
              "<td>0.0796646</td></tr>\n",
              "<tr><td>C10</td>\n",
              "<td>0.8177086</td>\n",
              "<td>0.8177086</td>\n",
              "<td>0.0766574</td></tr>\n",
              "<tr><td>C9</td>\n",
              "<td>0.7646642</td>\n",
              "<td>0.7646642</td>\n",
              "<td>0.0716847</td></tr>\n",
              "<tr><td>C3</td>\n",
              "<td>0.7567661</td>\n",
              "<td>0.7567661</td>\n",
              "<td>0.0709443</td></tr>\n",
              "<tr><td>C13</td>\n",
              "<td>0.7339332</td>\n",
              "<td>0.7339332</td>\n",
              "<td>0.0688038</td></tr>\n",
              "<tr><td>C7</td>\n",
              "<td>0.7303563</td>\n",
              "<td>0.7303563</td>\n",
              "<td>0.0684684</td></tr>\n",
              "<tr><td>C2</td>\n",
              "<td>0.7189485</td>\n",
              "<td>0.7189485</td>\n",
              "<td>0.0673990</td></tr>\n",
              "<tr><td>C6</td>\n",
              "<td>0.6684347</td>\n",
              "<td>0.6684347</td>\n",
              "<td>0.0626635</td></tr></table></div>"
            ],
            "text/plain": [
              "variable    relative_importance    scaled_importance    percentage\n",
              "----------  ---------------------  -------------------  ------------\n",
              "C1          1                      1                    0.0937466\n",
              "C5          0.976498               0.976498             0.0915434\n",
              "C12         0.898235               0.898235             0.0842065\n",
              "C8          0.895707               0.895707             0.0839695\n",
              "C11         0.856011               0.856011             0.0802482\n",
              "C4          0.849786               0.849786             0.0796646\n",
              "C10         0.817709               0.817709             0.0766574\n",
              "C9          0.764664               0.764664             0.0716847\n",
              "C3          0.756766               0.756766             0.0709443\n",
              "C13         0.733933               0.733933             0.0688038\n",
              "C7          0.730356               0.730356             0.0684684\n",
              "C2          0.718949               0.718949             0.067399\n",
              "C6          0.668435               0.668435             0.0626635"
            ]
          },
          "metadata": {
            "tags": []
          }
        },
        {
          "output_type": "execute_result",
          "data": {
            "text/plain": [
              ""
            ]
          },
          "metadata": {
            "tags": []
          },
          "execution_count": 151
        }
      ]
    },
    {
      "cell_type": "code",
      "metadata": {
        "id": "EhXyBsYadQ_h",
        "colab_type": "code",
        "outputId": "a8d60cdf-3ca5-422c-c41c-4922427b19c9",
        "colab": {
          "base_uri": "https://localhost:8080/",
          "height": 35
        }
      },
      "source": [
        "# make predictions directly on the `\"H2OAutoML\"` object, or on the leader model object directly\n",
        "preds = aml.predict(test)"
      ],
      "execution_count": 0,
      "outputs": [
        {
          "output_type": "stream",
          "text": [
            "deeplearning prediction progress: |███████████████████████████████████████| 100%\n"
          ],
          "name": "stdout"
        }
      ]
    },
    {
      "cell_type": "markdown",
      "metadata": {
        "id": "s3ExBWQRv9j7",
        "colab_type": "text"
      },
      "source": [
        "With H2O AutoML, we are able to improve the prediction accuracy up to 63% by adopting deep learning algorithm."
      ]
    }
  ]
}