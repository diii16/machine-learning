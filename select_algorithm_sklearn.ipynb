{
  "nbformat": 4,
  "nbformat_minor": 0,
  "metadata": {
    "colab": {
      "name": "Disc7_select_algorithm_sklearn.ipynb",
      "version": "0.3.2",
      "provenance": [],
      "collapsed_sections": [],
      "include_colab_link": true
    },
    "kernelspec": {
      "name": "python3",
      "display_name": "Python 3"
    }
  },
  "cells": [
    {
      "cell_type": "markdown",
      "metadata": {
        "id": "view-in-github",
        "colab_type": "text"
      },
      "source": [
        "<a href=\"https://colab.research.google.com/github/linkwine/machine-learning/blob/master/select_algorithm_sklearn.ipynb\" target=\"_parent\"><img src=\"https://colab.research.google.com/assets/colab-badge.svg\" alt=\"Open In Colab\"/></a>"
      ]
    },
    {
      "metadata": {
        "id": "g-imbDSppPJA",
        "colab_type": "text"
      },
      "cell_type": "markdown",
      "source": [
        "#SKlearn algorithm cheatsheet\n",
        "\n",
        "This exercise aims to practice algorithm selection skills with sklearn algorithm cheatsheet.\n",
        "Titanic dataset from kaggle website is used.\n",
        "https://www.kaggle.com/c/titanic\n",
        "\n",
        "\n",
        "![ml_map](https://raw.githubusercontent.com/linkwine/machine-learning/master/ml_map_1.png)\n",
        "\n"
      ]
    },
    {
      "metadata": {
        "id": "BUI9FOGzuJoD",
        "colab_type": "text"
      },
      "cell_type": "markdown",
      "source": [
        "### Loading Library"
      ]
    },
    {
      "metadata": {
        "id": "ijKsm97up9Or",
        "colab_type": "code",
        "colab": {}
      },
      "cell_type": "code",
      "source": [
        "# data manipulation\n",
        "import pandas as pd\n",
        "import numpy as np\n",
        "\n",
        "# visualization\n",
        "import seaborn as sns"
      ],
      "execution_count": 0,
      "outputs": []
    },
    {
      "metadata": {
        "id": "Fp35qVH-pgx0",
        "colab_type": "text"
      },
      "cell_type": "markdown",
      "source": [
        "### Reading Data from Github"
      ]
    },
    {
      "metadata": {
        "id": "MGy6rbZCAGai",
        "colab_type": "code",
        "outputId": "934a7cf7-df74-4669-b3a5-cecaed5e88c8",
        "colab": {
          "base_uri": "https://localhost:8080/",
          "height": 200
        }
      },
      "cell_type": "code",
      "source": [
        "# 1. get titanic & test csv files as a DataFrame\n",
        "\n",
        "train_df = pd.read_csv('https://raw.githubusercontent.com/linkwine/machine-learning/master/train.csv')\n",
        "test_df  = pd.read_csv('https://raw.githubusercontent.com/linkwine/machine-learning/master/test.csv')\n",
        "\n",
        "full_data = [train_df, test_df] \n",
        "\n",
        "# preview the data\n",
        "train_df.head()"
      ],
      "execution_count": 0,
      "outputs": [
        {
          "output_type": "execute_result",
          "data": {
            "text/html": [
              "<div>\n",
              "<style scoped>\n",
              "    .dataframe tbody tr th:only-of-type {\n",
              "        vertical-align: middle;\n",
              "    }\n",
              "\n",
              "    .dataframe tbody tr th {\n",
              "        vertical-align: top;\n",
              "    }\n",
              "\n",
              "    .dataframe thead th {\n",
              "        text-align: right;\n",
              "    }\n",
              "</style>\n",
              "<table border=\"1\" class=\"dataframe\">\n",
              "  <thead>\n",
              "    <tr style=\"text-align: right;\">\n",
              "      <th></th>\n",
              "      <th>PassengerId</th>\n",
              "      <th>Survived</th>\n",
              "      <th>Pclass</th>\n",
              "      <th>Name</th>\n",
              "      <th>Sex</th>\n",
              "      <th>Age</th>\n",
              "      <th>SibSp</th>\n",
              "      <th>Parch</th>\n",
              "      <th>Ticket</th>\n",
              "      <th>Fare</th>\n",
              "      <th>Cabin</th>\n",
              "      <th>Embarked</th>\n",
              "    </tr>\n",
              "  </thead>\n",
              "  <tbody>\n",
              "    <tr>\n",
              "      <th>0</th>\n",
              "      <td>1</td>\n",
              "      <td>0</td>\n",
              "      <td>3</td>\n",
              "      <td>Braund, Mr. Owen Harris</td>\n",
              "      <td>male</td>\n",
              "      <td>22.0</td>\n",
              "      <td>1</td>\n",
              "      <td>0</td>\n",
              "      <td>A/5 21171</td>\n",
              "      <td>7.2500</td>\n",
              "      <td>NaN</td>\n",
              "      <td>S</td>\n",
              "    </tr>\n",
              "    <tr>\n",
              "      <th>1</th>\n",
              "      <td>2</td>\n",
              "      <td>1</td>\n",
              "      <td>1</td>\n",
              "      <td>Cumings, Mrs. John Bradley (Florence Briggs Th...</td>\n",
              "      <td>female</td>\n",
              "      <td>38.0</td>\n",
              "      <td>1</td>\n",
              "      <td>0</td>\n",
              "      <td>PC 17599</td>\n",
              "      <td>71.2833</td>\n",
              "      <td>C85</td>\n",
              "      <td>C</td>\n",
              "    </tr>\n",
              "    <tr>\n",
              "      <th>2</th>\n",
              "      <td>3</td>\n",
              "      <td>1</td>\n",
              "      <td>3</td>\n",
              "      <td>Heikkinen, Miss. Laina</td>\n",
              "      <td>female</td>\n",
              "      <td>26.0</td>\n",
              "      <td>0</td>\n",
              "      <td>0</td>\n",
              "      <td>STON/O2. 3101282</td>\n",
              "      <td>7.9250</td>\n",
              "      <td>NaN</td>\n",
              "      <td>S</td>\n",
              "    </tr>\n",
              "    <tr>\n",
              "      <th>3</th>\n",
              "      <td>4</td>\n",
              "      <td>1</td>\n",
              "      <td>1</td>\n",
              "      <td>Futrelle, Mrs. Jacques Heath (Lily May Peel)</td>\n",
              "      <td>female</td>\n",
              "      <td>35.0</td>\n",
              "      <td>1</td>\n",
              "      <td>0</td>\n",
              "      <td>113803</td>\n",
              "      <td>53.1000</td>\n",
              "      <td>C123</td>\n",
              "      <td>S</td>\n",
              "    </tr>\n",
              "    <tr>\n",
              "      <th>4</th>\n",
              "      <td>5</td>\n",
              "      <td>0</td>\n",
              "      <td>3</td>\n",
              "      <td>Allen, Mr. William Henry</td>\n",
              "      <td>male</td>\n",
              "      <td>35.0</td>\n",
              "      <td>0</td>\n",
              "      <td>0</td>\n",
              "      <td>373450</td>\n",
              "      <td>8.0500</td>\n",
              "      <td>NaN</td>\n",
              "      <td>S</td>\n",
              "    </tr>\n",
              "  </tbody>\n",
              "</table>\n",
              "</div>"
            ],
            "text/plain": [
              "   PassengerId  Survived  Pclass  \\\n",
              "0            1         0       3   \n",
              "1            2         1       1   \n",
              "2            3         1       3   \n",
              "3            4         1       1   \n",
              "4            5         0       3   \n",
              "\n",
              "                                                Name     Sex   Age  SibSp  \\\n",
              "0                            Braund, Mr. Owen Harris    male  22.0      1   \n",
              "1  Cumings, Mrs. John Bradley (Florence Briggs Th...  female  38.0      1   \n",
              "2                             Heikkinen, Miss. Laina  female  26.0      0   \n",
              "3       Futrelle, Mrs. Jacques Heath (Lily May Peel)  female  35.0      1   \n",
              "4                           Allen, Mr. William Henry    male  35.0      0   \n",
              "\n",
              "   Parch            Ticket     Fare Cabin Embarked  \n",
              "0      0         A/5 21171   7.2500   NaN        S  \n",
              "1      0          PC 17599  71.2833   C85        C  \n",
              "2      0  STON/O2. 3101282   7.9250   NaN        S  \n",
              "3      0            113803  53.1000  C123        S  \n",
              "4      0            373450   8.0500   NaN        S  "
            ]
          },
          "metadata": {
            "tags": []
          },
          "execution_count": 27
        }
      ]
    },
    {
      "metadata": {
        "id": "6LQrEDOaP5Ui",
        "colab_type": "code",
        "outputId": "c89519a8-a36d-46f6-eb5a-b0b2832b4256",
        "colab": {
          "base_uri": "https://localhost:8080/",
          "height": 621
        }
      },
      "cell_type": "code",
      "source": [
        "train_df.info()\n",
        "print(\"----------------------------\")\n",
        "test_df.info()\n",
        "\n",
        "# Age and Cabin have a lot of missing values\n",
        "# Embarked has 2 missing values in the training set\n",
        "# Fare has 1 missing values in the test set"
      ],
      "execution_count": 0,
      "outputs": [
        {
          "output_type": "stream",
          "text": [
            "<class 'pandas.core.frame.DataFrame'>\n",
            "RangeIndex: 891 entries, 0 to 890\n",
            "Data columns (total 12 columns):\n",
            "PassengerId    891 non-null int64\n",
            "Survived       891 non-null int64\n",
            "Pclass         891 non-null int64\n",
            "Name           891 non-null object\n",
            "Sex            891 non-null object\n",
            "Age            714 non-null float64\n",
            "SibSp          891 non-null int64\n",
            "Parch          891 non-null int64\n",
            "Ticket         891 non-null object\n",
            "Fare           891 non-null float64\n",
            "Cabin          204 non-null object\n",
            "Embarked       889 non-null object\n",
            "dtypes: float64(2), int64(5), object(5)\n",
            "memory usage: 83.6+ KB\n",
            "----------------------------\n",
            "<class 'pandas.core.frame.DataFrame'>\n",
            "RangeIndex: 418 entries, 0 to 417\n",
            "Data columns (total 11 columns):\n",
            "PassengerId    418 non-null int64\n",
            "Pclass         418 non-null int64\n",
            "Name           418 non-null object\n",
            "Sex            418 non-null object\n",
            "Age            332 non-null float64\n",
            "SibSp          418 non-null int64\n",
            "Parch          418 non-null int64\n",
            "Ticket         418 non-null object\n",
            "Fare           417 non-null float64\n",
            "Cabin          91 non-null object\n",
            "Embarked       418 non-null object\n",
            "dtypes: float64(2), int64(4), object(5)\n",
            "memory usage: 36.0+ KB\n"
          ],
          "name": "stdout"
        }
      ]
    },
    {
      "metadata": {
        "id": "oHbJBUSUpph1",
        "colab_type": "text"
      },
      "cell_type": "markdown",
      "source": [
        "### Conducting Descriptive Analysis"
      ]
    },
    {
      "metadata": {
        "id": "wxL3GDZvACNc",
        "colab_type": "code",
        "outputId": "7b270946-b6a7-4356-b678-2164c83a94b3",
        "colab": {
          "base_uri": "https://localhost:8080/",
          "height": 139
        }
      },
      "cell_type": "code",
      "source": [
        "# 2. conduct descriptive analysis \n",
        "###  to see relationship between each explainatory variable and the outcome 'Survived'\n",
        "\n",
        "# pclass\n",
        "train_df[['Pclass', 'Survived']].groupby(['Pclass'], as_index=False).mean()\n",
        "\n",
        "# the higher the class, the higher chance of survival"
      ],
      "execution_count": 0,
      "outputs": [
        {
          "output_type": "execute_result",
          "data": {
            "text/html": [
              "<div>\n",
              "<style scoped>\n",
              "    .dataframe tbody tr th:only-of-type {\n",
              "        vertical-align: middle;\n",
              "    }\n",
              "\n",
              "    .dataframe tbody tr th {\n",
              "        vertical-align: top;\n",
              "    }\n",
              "\n",
              "    .dataframe thead th {\n",
              "        text-align: right;\n",
              "    }\n",
              "</style>\n",
              "<table border=\"1\" class=\"dataframe\">\n",
              "  <thead>\n",
              "    <tr style=\"text-align: right;\">\n",
              "      <th></th>\n",
              "      <th>Pclass</th>\n",
              "      <th>Survived</th>\n",
              "    </tr>\n",
              "  </thead>\n",
              "  <tbody>\n",
              "    <tr>\n",
              "      <th>0</th>\n",
              "      <td>1</td>\n",
              "      <td>0.629630</td>\n",
              "    </tr>\n",
              "    <tr>\n",
              "      <th>1</th>\n",
              "      <td>2</td>\n",
              "      <td>0.472826</td>\n",
              "    </tr>\n",
              "    <tr>\n",
              "      <th>2</th>\n",
              "      <td>3</td>\n",
              "      <td>0.242363</td>\n",
              "    </tr>\n",
              "  </tbody>\n",
              "</table>\n",
              "</div>"
            ],
            "text/plain": [
              "   Pclass  Survived\n",
              "0       1  0.629630\n",
              "1       2  0.472826\n",
              "2       3  0.242363"
            ]
          },
          "metadata": {
            "tags": []
          },
          "execution_count": 30
        }
      ]
    },
    {
      "metadata": {
        "id": "6tpMEn1BAQcU",
        "colab_type": "code",
        "outputId": "de9b4c04-859d-47b2-cace-9d05475307a6",
        "colab": {
          "base_uri": "https://localhost:8080/",
          "height": 70
        }
      },
      "cell_type": "code",
      "source": [
        "# sex\n",
        "print (train_df[[\"Sex\", \"Survived\"]].groupby(['Sex'], as_index=False).mean())\n",
        "\n",
        "# female seem to has a better chance surviving"
      ],
      "execution_count": 0,
      "outputs": [
        {
          "output_type": "stream",
          "text": [
            "      Sex  Survived\n",
            "0  female  0.742038\n",
            "1    male  0.188908\n"
          ],
          "name": "stdout"
        }
      ]
    },
    {
      "metadata": {
        "id": "s6I0a8G6JLEV",
        "colab_type": "code",
        "outputId": "24664254-7cbe-4d3d-ad65-9e84f60f54eb",
        "colab": {
          "base_uri": "https://localhost:8080/",
          "height": 195
        }
      },
      "cell_type": "code",
      "source": [
        "# SibSp & Parch\n",
        "\n",
        "# combine the two column as 'Family'\n",
        "\n",
        "for dataset in full_data:\n",
        "    dataset['FamilySize'] = dataset['SibSp'] + dataset['Parch'] \n",
        "print (train_df[['FamilySize', 'Survived']].groupby(['FamilySize'], as_index=False).mean())\n",
        "\n",
        "\n",
        "### Family size between 2 and 4 seems to have a higher survival rate (survival rate greater than 50%)"
      ],
      "execution_count": 0,
      "outputs": [
        {
          "output_type": "stream",
          "text": [
            "   FamilySize  Survived\n",
            "0           0  0.303538\n",
            "1           1  0.552795\n",
            "2           2  0.578431\n",
            "3           3  0.724138\n",
            "4           4  0.200000\n",
            "5           5  0.136364\n",
            "6           6  0.333333\n",
            "7           7  0.000000\n",
            "8          10  0.000000\n"
          ],
          "name": "stdout"
        }
      ]
    },
    {
      "metadata": {
        "id": "yEFlZeDHJ3iR",
        "colab_type": "code",
        "outputId": "a9e7ab1f-faed-4271-b4d9-623ddea8f896",
        "colab": {
          "base_uri": "https://localhost:8080/",
          "height": 70
        }
      },
      "cell_type": "code",
      "source": [
        "# SibSp & Parch continued\n",
        "\n",
        "# change the variable to binary\n",
        "\n",
        "for dataset in full_data:\n",
        "    # add column 'IsAlong', set value to 0\n",
        "    dataset['IsAlone'] = 0\n",
        "    # Set value (1) for all items matching the list of labels- 'FamilySize' = 0\n",
        "    dataset.loc[dataset['FamilySize'] == 0, 'IsAlone'] = 1\n",
        "  \n",
        "print (train_df[['IsAlone', 'Survived']].groupby(['IsAlone'], as_index=False).mean())\n",
        "\n",
        "### those who are with family have a higher survival rate"
      ],
      "execution_count": 0,
      "outputs": [
        {
          "output_type": "stream",
          "text": [
            "   IsAlone  Survived\n",
            "0        0  0.505650\n",
            "1        1  0.303538\n"
          ],
          "name": "stdout"
        }
      ]
    },
    {
      "metadata": {
        "id": "7WOdNFttRpvY",
        "colab_type": "code",
        "outputId": "f30077b6-17f6-4ced-fd47-c63274e13089",
        "colab": {
          "base_uri": "https://localhost:8080/",
          "height": 432
        }
      },
      "cell_type": "code",
      "source": [
        "# Embarked\n",
        "\n",
        "# visualize\n",
        "sns.countplot(x='Embarked', data=train_df)\n",
        "\n",
        "\n",
        "# impute missing value with the most occured value 'S' and see the relationship between Survived and Embarked\n",
        "for dataset in full_data:\n",
        "    dataset['Embarked'] = dataset['Embarked'].fillna('S')\n",
        "print (train_df[['Embarked', 'Survived']].groupby(['Embarked'], as_index=False).mean())\n",
        "\n",
        "\n",
        "### class 'C' appears to have a higher survival rate"
      ],
      "execution_count": 0,
      "outputs": [
        {
          "output_type": "stream",
          "text": [
            "  Embarked  Survived\n",
            "0        C  0.553571\n",
            "1        Q  0.389610\n",
            "2        S  0.339009\n"
          ],
          "name": "stdout"
        },
        {
          "output_type": "display_data",
          "data": {
            "image/png": "[encoded data removed]",
            "text/plain": [
              "<Figure size 576x396 with 1 Axes>"
            ]
          },
          "metadata": {
            "tags": []
          }
        }
      ]
    },
    {
      "metadata": {
        "id": "Q9ipACe6qSWV",
        "colab_type": "code",
        "outputId": "c994c291-4678-4e5c-8579-96db15cb3375",
        "colab": {
          "base_uri": "https://localhost:8080/",
          "height": 467
        }
      },
      "cell_type": "code",
      "source": [
        "# Fare\n",
        "\n",
        "# visualize\n",
        "sns.countplot(x='Fare', data=train_df)\n",
        "### 'Fare' is continuous, we might want to categorize it\n",
        "\n",
        "\n",
        "# categorize the data\n",
        "train_df['CategoricalFare'] = pd.qcut(train_df['Fare'], 5)\n",
        "print (train_df[['CategoricalFare', 'Survived']].groupby(['CategoricalFare'], as_index=False).mean())\n",
        "\n",
        "### the more expensive the fare, the higher chance of survival\n",
        "\n"
      ],
      "execution_count": 0,
      "outputs": [
        {
          "output_type": "stream",
          "text": [
            "     CategoricalFare  Survived\n",
            "0    (-0.001, 7.854]  0.217877\n",
            "1      (7.854, 10.5]  0.201087\n",
            "2     (10.5, 21.679]  0.424419\n",
            "3   (21.679, 39.688]  0.444444\n",
            "4  (39.688, 512.329]  0.642045\n"
          ],
          "name": "stdout"
        },
        {
          "output_type": "display_data",
          "data": {
            "image/png": "[encoded data removed]",
            "text/plain": [
              "<Figure size 576x396 with 1 Axes>"
            ]
          },
          "metadata": {
            "tags": []
          }
        }
      ]
    },
    {
      "metadata": {
        "id": "UkFqY4G8GpfL",
        "colab_type": "code",
        "colab": {}
      },
      "cell_type": "code",
      "source": [
        "# Fare continued\n",
        "\n",
        "# impute missing value in the test_df\n",
        "for dataset in full_data:\n",
        "    dataset['Fare'] = dataset['Fare'].fillna(train_df['Fare'].median())\n",
        "      "
      ],
      "execution_count": 0,
      "outputs": []
    },
    {
      "metadata": {
        "id": "7aMr5t9V2u65",
        "colab_type": "code",
        "outputId": "c965f42a-6626-4701-eb4b-de23c0136f70",
        "colab": {
          "base_uri": "https://localhost:8080/",
          "height": 251
        }
      },
      "cell_type": "code",
      "source": [
        "#preview data again\n",
        "train_df.head()"
      ],
      "execution_count": 0,
      "outputs": [
        {
          "output_type": "execute_result",
          "data": {
            "text/html": [
              "<div>\n",
              "<style scoped>\n",
              "    .dataframe tbody tr th:only-of-type {\n",
              "        vertical-align: middle;\n",
              "    }\n",
              "\n",
              "    .dataframe tbody tr th {\n",
              "        vertical-align: top;\n",
              "    }\n",
              "\n",
              "    .dataframe thead th {\n",
              "        text-align: right;\n",
              "    }\n",
              "</style>\n",
              "<table border=\"1\" class=\"dataframe\">\n",
              "  <thead>\n",
              "    <tr style=\"text-align: right;\">\n",
              "      <th></th>\n",
              "      <th>PassengerId</th>\n",
              "      <th>Survived</th>\n",
              "      <th>Pclass</th>\n",
              "      <th>Name</th>\n",
              "      <th>Sex</th>\n",
              "      <th>Age</th>\n",
              "      <th>SibSp</th>\n",
              "      <th>Parch</th>\n",
              "      <th>Ticket</th>\n",
              "      <th>Fare</th>\n",
              "      <th>Cabin</th>\n",
              "      <th>Embarked</th>\n",
              "      <th>FamilySize</th>\n",
              "      <th>IsAlone</th>\n",
              "      <th>CategoricalFare</th>\n",
              "    </tr>\n",
              "  </thead>\n",
              "  <tbody>\n",
              "    <tr>\n",
              "      <th>0</th>\n",
              "      <td>1</td>\n",
              "      <td>0</td>\n",
              "      <td>3</td>\n",
              "      <td>Braund, Mr. Owen Harris</td>\n",
              "      <td>male</td>\n",
              "      <td>22.0</td>\n",
              "      <td>1</td>\n",
              "      <td>0</td>\n",
              "      <td>A/5 21171</td>\n",
              "      <td>7.2500</td>\n",
              "      <td>NaN</td>\n",
              "      <td>S</td>\n",
              "      <td>1</td>\n",
              "      <td>0</td>\n",
              "      <td>(-0.001, 7.854]</td>\n",
              "    </tr>\n",
              "    <tr>\n",
              "      <th>1</th>\n",
              "      <td>2</td>\n",
              "      <td>1</td>\n",
              "      <td>1</td>\n",
              "      <td>Cumings, Mrs. John Bradley (Florence Briggs Th...</td>\n",
              "      <td>female</td>\n",
              "      <td>38.0</td>\n",
              "      <td>1</td>\n",
              "      <td>0</td>\n",
              "      <td>PC 17599</td>\n",
              "      <td>71.2833</td>\n",
              "      <td>C85</td>\n",
              "      <td>C</td>\n",
              "      <td>1</td>\n",
              "      <td>0</td>\n",
              "      <td>(39.688, 512.329]</td>\n",
              "    </tr>\n",
              "    <tr>\n",
              "      <th>2</th>\n",
              "      <td>3</td>\n",
              "      <td>1</td>\n",
              "      <td>3</td>\n",
              "      <td>Heikkinen, Miss. Laina</td>\n",
              "      <td>female</td>\n",
              "      <td>26.0</td>\n",
              "      <td>0</td>\n",
              "      <td>0</td>\n",
              "      <td>STON/O2. 3101282</td>\n",
              "      <td>7.9250</td>\n",
              "      <td>NaN</td>\n",
              "      <td>S</td>\n",
              "      <td>0</td>\n",
              "      <td>1</td>\n",
              "      <td>(7.854, 10.5]</td>\n",
              "    </tr>\n",
              "    <tr>\n",
              "      <th>3</th>\n",
              "      <td>4</td>\n",
              "      <td>1</td>\n",
              "      <td>1</td>\n",
              "      <td>Futrelle, Mrs. Jacques Heath (Lily May Peel)</td>\n",
              "      <td>female</td>\n",
              "      <td>35.0</td>\n",
              "      <td>1</td>\n",
              "      <td>0</td>\n",
              "      <td>113803</td>\n",
              "      <td>53.1000</td>\n",
              "      <td>C123</td>\n",
              "      <td>S</td>\n",
              "      <td>1</td>\n",
              "      <td>0</td>\n",
              "      <td>(39.688, 512.329]</td>\n",
              "    </tr>\n",
              "    <tr>\n",
              "      <th>4</th>\n",
              "      <td>5</td>\n",
              "      <td>0</td>\n",
              "      <td>3</td>\n",
              "      <td>Allen, Mr. William Henry</td>\n",
              "      <td>male</td>\n",
              "      <td>35.0</td>\n",
              "      <td>0</td>\n",
              "      <td>0</td>\n",
              "      <td>373450</td>\n",
              "      <td>8.0500</td>\n",
              "      <td>NaN</td>\n",
              "      <td>S</td>\n",
              "      <td>0</td>\n",
              "      <td>1</td>\n",
              "      <td>(7.854, 10.5]</td>\n",
              "    </tr>\n",
              "  </tbody>\n",
              "</table>\n",
              "</div>"
            ],
            "text/plain": [
              "   PassengerId  Survived  Pclass  \\\n",
              "0            1         0       3   \n",
              "1            2         1       1   \n",
              "2            3         1       3   \n",
              "3            4         1       1   \n",
              "4            5         0       3   \n",
              "\n",
              "                                                Name     Sex   Age  SibSp  \\\n",
              "0                            Braund, Mr. Owen Harris    male  22.0      1   \n",
              "1  Cumings, Mrs. John Bradley (Florence Briggs Th...  female  38.0      1   \n",
              "2                             Heikkinen, Miss. Laina  female  26.0      0   \n",
              "3       Futrelle, Mrs. Jacques Heath (Lily May Peel)  female  35.0      1   \n",
              "4                           Allen, Mr. William Henry    male  35.0      0   \n",
              "\n",
              "   Parch            Ticket     Fare Cabin Embarked  FamilySize  IsAlone  \\\n",
              "0      0         A/5 21171   7.2500   NaN        S           1        0   \n",
              "1      0          PC 17599  71.2833   C85        C           1        0   \n",
              "2      0  STON/O2. 3101282   7.9250   NaN        S           0        1   \n",
              "3      0            113803  53.1000  C123        S           1        0   \n",
              "4      0            373450   8.0500   NaN        S           0        1   \n",
              "\n",
              "     CategoricalFare  \n",
              "0    (-0.001, 7.854]  \n",
              "1  (39.688, 512.329]  \n",
              "2      (7.854, 10.5]  \n",
              "3  (39.688, 512.329]  \n",
              "4      (7.854, 10.5]  "
            ]
          },
          "metadata": {
            "tags": []
          },
          "execution_count": 38
        }
      ]
    },
    {
      "metadata": {
        "id": "IOCEx-1yqdrO",
        "colab_type": "text"
      },
      "cell_type": "markdown",
      "source": [
        "### Cleaning Data"
      ]
    },
    {
      "metadata": {
        "id": "5rFS8vQsIu7x",
        "colab_type": "code",
        "colab": {}
      },
      "cell_type": "code",
      "source": [
        "# 3. cleaning data\n",
        "\n",
        "# we need to transform all string value to integer\n",
        "# including Sex, Fare, Embarked\n",
        "\n",
        "for dataset in full_data:\n",
        "    # Mapping Sex\n",
        "    dataset['Sex'] = dataset['Sex'].map( {'female': 0, 'male': 1} ).astype(int)\n",
        "    \n",
        "\n",
        "    # Mapping Embarked\n",
        "    dataset['Embarked'] = dataset['Embarked'].map( {'S': 0, 'C': 1, 'Q': 2} ).astype(int)    \n",
        "                              \n",
        "    "
      ],
      "execution_count": 0,
      "outputs": []
    },
    {
      "metadata": {
        "id": "RmVke8s48jBT",
        "colab_type": "code",
        "outputId": "50ae0a4d-f6ff-4afd-8595-be05778636ff",
        "colab": {
          "base_uri": "https://localhost:8080/",
          "height": 212
        }
      },
      "cell_type": "code",
      "source": [
        "# 4. Feature Selection\n",
        "\n",
        "# drop \n",
        "\n",
        "drop_elements = ['Name', 'Ticket', 'Cabin', 'Age', 'SibSp', 'Parch', 'FamilySize', 'Fare']\n",
        "train_df = train_df.drop(columns = drop_elements, axis = 1)\n",
        "train_df = train_df.drop(['CategoricalFare', 'PassengerId', ], axis = 1)\n",
        "\n",
        "test_df  = test_df.drop(drop_elements, axis = 1)\n",
        "\n",
        "print (train_df.head(10))\n"
      ],
      "execution_count": 0,
      "outputs": [
        {
          "output_type": "stream",
          "text": [
            "   Survived  Pclass  Sex  Embarked  IsAlone\n",
            "0         0       3    1         0        0\n",
            "1         1       1    0         1        0\n",
            "2         1       3    0         0        1\n",
            "3         1       1    0         0        0\n",
            "4         0       3    1         0        1\n",
            "5         0       3    1         2        1\n",
            "6         0       1    1         0        1\n",
            "7         0       3    1         0        0\n",
            "8         1       3    0         0        0\n",
            "9         1       2    0         1        0\n"
          ],
          "name": "stdout"
        }
      ]
    },
    {
      "metadata": {
        "id": "9-UgvWPKr1UO",
        "colab_type": "text"
      },
      "cell_type": "markdown",
      "source": [
        "### Training the Model"
      ]
    },
    {
      "metadata": {
        "id": "2rQbluKGmpCv",
        "colab_type": "code",
        "colab": {}
      },
      "cell_type": "code",
      "source": [
        "# 5. train the models \n",
        "\n",
        "# define training and testing sets\n",
        "\n",
        "X_train = train_df.drop(\"Survived\",axis=1)\n",
        "Y_train = train_df[\"Survived\"]\n",
        "X_test  = test_df.drop(\"PassengerId\",axis=1).copy()\n"
      ],
      "execution_count": 0,
      "outputs": []
    },
    {
      "metadata": {
        "id": "lRx5YV94ULQv",
        "colab_type": "code",
        "colab": {}
      },
      "cell_type": "code",
      "source": [
        "# load library for machine learning\n",
        "import sklearn\n",
        "from sklearn.svm import LinearSVC, SVC\n",
        "from sklearn.neighbors import KNeighborsClassifier\n",
        "from sklearn.ensemble import RandomForestClassifier\n",
        "\n",
        "import warnings\n",
        "warnings.filterwarnings(\"ignore\", category=FutureWarning)"
      ],
      "execution_count": 0,
      "outputs": []
    },
    {
      "metadata": {
        "id": "HlmqGP4aAIIZ",
        "colab_type": "code",
        "outputId": "3025d4fb-ce60-4e5c-844b-c24ffdf2026b",
        "colab": {
          "base_uri": "https://localhost:8080/",
          "height": 35
        }
      },
      "cell_type": "code",
      "source": [
        "# Support Vector Machines\n",
        "\n",
        "lsvc = LinearSVC()\n",
        "\n",
        "lsvc.fit(X_train, Y_train)\n",
        "\n",
        "Y_pred_1 = lsvc.predict(X_test)\n",
        "\n",
        "lsvc.score(X_train, Y_train)"
      ],
      "execution_count": 0,
      "outputs": [
        {
          "output_type": "execute_result",
          "data": {
            "text/plain": [
              "0.7856341189674523"
            ]
          },
          "metadata": {
            "tags": []
          },
          "execution_count": 52
        }
      ]
    },
    {
      "metadata": {
        "id": "h9ykAsS5AXc-",
        "colab_type": "code",
        "outputId": "4347a2a6-f3bb-436c-92d1-9265d7af8bc5",
        "colab": {
          "base_uri": "https://localhost:8080/",
          "height": 35
        }
      },
      "cell_type": "code",
      "source": [
        "# Knearest Neighbor\n",
        "\n",
        "knn = KNeighborsClassifier(n_neighbors = 2)\n",
        "\n",
        "knn.fit(X_train, Y_train)\n",
        "\n",
        "Y_pred_2 = knn.predict(X_test)\n",
        "\n",
        "knn.score(X_train, Y_train)"
      ],
      "execution_count": 0,
      "outputs": [
        {
          "output_type": "execute_result",
          "data": {
            "text/plain": [
              "0.792368125701459"
            ]
          },
          "metadata": {
            "tags": []
          },
          "execution_count": 53
        }
      ]
    },
    {
      "metadata": {
        "id": "Te3XWGSCtO2b",
        "colab_type": "code",
        "outputId": "b8ca4f12-fddf-461c-e688-d48d639a6d70",
        "colab": {
          "base_uri": "https://localhost:8080/",
          "height": 35
        }
      },
      "cell_type": "code",
      "source": [
        "# ensemble\n",
        "\n",
        "clf = RandomForestClassifier(n_estimators=10)\n",
        "\n",
        "clf.fit(X_train, Y_train)\n",
        "\n",
        "Y_pred_3 = clf.predict(X_test)\n",
        "\n",
        "clf.score(X_train, Y_train)"
      ],
      "execution_count": 0,
      "outputs": [
        {
          "output_type": "execute_result",
          "data": {
            "text/plain": [
              "0.8103254769921436"
            ]
          },
          "metadata": {
            "tags": []
          },
          "execution_count": 54
        }
      ]
    },
    {
      "metadata": {
        "id": "2WRXDECdtqlV",
        "colab_type": "code",
        "outputId": "4b6fcfbf-5218-4a11-b0bd-5f46b375b4f4",
        "colab": {
          "base_uri": "https://localhost:8080/",
          "height": 35
        }
      },
      "cell_type": "code",
      "source": [
        "# SVC\n",
        "svc = SVC()\n",
        "\n",
        "svc.fit(X_train, Y_train)\n",
        "\n",
        "Y_pred_4 = svc.predict(X_test)\n",
        "\n",
        "svc.score(X_train, Y_train)"
      ],
      "execution_count": 0,
      "outputs": [
        {
          "output_type": "execute_result",
          "data": {
            "text/plain": [
              "0.8114478114478114"
            ]
          },
          "metadata": {
            "tags": []
          },
          "execution_count": 51
        }
      ]
    },
    {
      "metadata": {
        "id": "O6qQAICwA0AU",
        "colab_type": "text"
      },
      "cell_type": "markdown",
      "source": [
        "### Final Results"
      ]
    },
    {
      "metadata": {
        "id": "e6JCumSduChd",
        "colab_type": "text"
      },
      "cell_type": "markdown",
      "source": [
        "SVC generates the highest score, which is 0.81."
      ]
    },
    {
      "metadata": {
        "id": "p-5adhpgAu65",
        "colab_type": "code",
        "colab": {}
      },
      "cell_type": "code",
      "source": [
        "submission = pd.DataFrame({\n",
        "        \"PassengerId\": test_df[\"PassengerId\"],\n",
        "        \"Survived\": Y_pred_4\n",
        "    })\n",
        "submission.to_csv('titanic.csv', index=False)"
      ],
      "execution_count": 0,
      "outputs": []
    }
  ]
}